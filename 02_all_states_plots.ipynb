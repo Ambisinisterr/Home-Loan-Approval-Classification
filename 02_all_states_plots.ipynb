{
 "cells": [
  {
   "cell_type": "markdown",
   "id": "d2392db2",
   "metadata": {},
   "source": [
    "# All States\n",
    "----\n",
    "This contains the merged DataFrames of California, Texas, New York and Florida.\n",
    "\n",
    "Data is limited to:\n",
    " - Years 2014-2017\n",
    " - People over the 20<sup>th</sup> percentile and under the 90<sup>th</sup> percentile by state\n",
    " - People in the few major Metro Areas by state"
   ]
  },
  {
   "cell_type": "code",
   "execution_count": 1,
   "id": "088ff957",
   "metadata": {},
   "outputs": [],
   "source": [
    "import pandas as pd\n",
    "import numpy as np\n",
    "import matplotlib.pyplot as plt\n",
    "import seaborn as sns\n",
    "import json\n",
    "from sklearn.linear_model import LogisticRegression\n",
    "from sklearn.model_selection import train_test_split, GridSearchCV\n",
    "from sklearn.impute import SimpleImputer\n",
    "from sklearn.preprocessing import OneHotEncoder, MinMaxScaler\n",
    "from sklearn.pipeline import Pipeline\n",
    "from sklearn.compose import ColumnTransformer\n"
   ]
  },
  {
   "cell_type": "code",
   "execution_count": 2,
   "id": "ade0dfd8",
   "metadata": {},
   "outputs": [],
   "source": [
    "def compress_dataframe(df, dictionary):\n",
    "    df = df.copy(deep=True)\n",
    "    \n",
    "    for col in dictionary.keys():\n",
    "        df[col] = df[col].map(dictionary[col])\n",
    "    return df"
   ]
  },
  {
   "cell_type": "code",
   "execution_count": 3,
   "id": "cae4303e",
   "metadata": {},
   "outputs": [],
   "source": [
    "def reduce_large_strings(df):\n",
    "    to_replace = [\"Information not provided by applicant in mail, Internet, or telephone application\",\n",
    "                  \"Native Hawaiian or Other Pacific Islander\",\n",
    "                  \"One-to-four family dwelling (other than manufactured housing)\"]\n",
    "    replace_with = [\"Information not Provided\",\n",
    "                    \"Native Hawaiian/Pacific Islander\",\n",
    "                    \"1-4 Family House\"]\n",
    "    for col in df.columns:\n",
    "        if df[col].dtype == object:\n",
    "            for i, _ in enumerate(to_replace):\n",
    "                df[col] = np.where(df[col] == to_replace[i], replace_with[i], df[col])            \n",
    "    return df"
   ]
  },
  {
   "cell_type": "code",
   "execution_count": 4,
   "id": "c2c89487",
   "metadata": {},
   "outputs": [],
   "source": [
    "# Code from Murmel on Stack Exchange\n",
    "# https://stackoverflow.com/questions/1450957/pythons-json-module-converts-int-dictionary-keys-to-strings\n",
    "def jsonKeys2int(x):\n",
    "    if isinstance(x, dict):\n",
    "        try:\n",
    "            return {int(k):v for k,v in x.items()}\n",
    "        except:\n",
    "            pass #bad form\n",
    "    return x"
   ]
  },
  {
   "cell_type": "markdown",
   "id": "0983819f",
   "metadata": {},
   "source": [
    "### Read In Merged DF and Decompression Dictionary\n",
    "----\n",
    "In order to reduce file size all categorical cells were converted into numbers and additionally compressed into a GZip file.\n",
    "\n",
    "The next three cells\n",
    "\n",
    "1. Reads in the numerical Dataframe\n",
    "2. Reads the JSON file which contains the key:value pairs to decode the DataFrame\n",
    "3. Executes a function that uses the JSON file to decompress/decode the numerical DataFrame."
   ]
  },
  {
   "cell_type": "code",
   "execution_count": 5,
   "id": "3d0ecc7b",
   "metadata": {},
   "outputs": [],
   "source": [
    "df=pd.read_csv('./merged_df/merged_df.csv.gz', low_memory=False)"
   ]
  },
  {
   "cell_type": "code",
   "execution_count": 6,
   "id": "2aa4efcb",
   "metadata": {},
   "outputs": [],
   "source": [
    "df.to_csv(\"./merged_df/merged_df.csv\", index=False)"
   ]
  },
  {
   "cell_type": "code",
   "execution_count": 7,
   "id": "63fe7889",
   "metadata": {},
   "outputs": [],
   "source": [
    "with open(\"./json_files/decompression_dictionary.json\", \"r\") as json_file:\n",
    "    decompression_dictionary = json.load(json_file, object_hook=jsonKeys2int)"
   ]
  },
  {
   "cell_type": "code",
   "execution_count": 8,
   "id": "000db7e7",
   "metadata": {},
   "outputs": [],
   "source": [
    "df = compress_dataframe(df, decompression_dictionary)"
   ]
  },
  {
   "cell_type": "markdown",
   "id": "37f3bbe5",
   "metadata": {},
   "source": [
    "### Quick Clean"
   ]
  },
  {
   "cell_type": "code",
   "execution_count": 9,
   "id": "99c874db",
   "metadata": {},
   "outputs": [],
   "source": [
    "df = reduce_large_strings(df)"
   ]
  },
  {
   "cell_type": "code",
   "execution_count": 10,
   "id": "bfe8a1a4",
   "metadata": {},
   "outputs": [],
   "source": [
    "#cast numerical features back to correct values\n",
    "numerical_features = ['as_of_year', 'agency_code', 'loan_type', 'loan_purpose',\n",
    "                      'owner_occupancy', 'loan_amount_000s', 'preapproval',\n",
    "                      'action_taken', 'msamd', 'census_tract_number', 'applicant_ethnicity',\n",
    "                      'co_applicant_ethnicity', 'applicant_race_1', 'co_applicant_race_1',\n",
    "                      'applicant_income_000s', 'purchaser_type', 'denial_reason_1',\n",
    "                      'denial_reason_2', 'denial_reason_3', 'hoepa_status', 'lien_status',\n",
    "                      'population', 'minority_population', 'hud_median_family_income',\n",
    "                      'tract_to_msamd_income', 'number_of_owner_occupied_units',\n",
    "                      'number_of_1_to_4_family_units', 'latino', 'approve_bin']\n",
    "dtypes = [int, int, int, int, int, float, int, int, float, float, int, int, int,int,\n",
    "          float, int, float, float, float, int, int, float, float, float, float, float,\n",
    "          float, int, int]\n",
    "for col, dtype in zip(numerical_features, dtypes):\n",
    "    df[col] = df[col].astype(dtype)"
   ]
  },
  {
   "cell_type": "code",
   "execution_count": 11,
   "id": "e489657d",
   "metadata": {},
   "outputs": [
    {
     "data": {
      "text/html": [
       "<div>\n",
       "<style scoped>\n",
       "    .dataframe tbody tr th:only-of-type {\n",
       "        vertical-align: middle;\n",
       "    }\n",
       "\n",
       "    .dataframe tbody tr th {\n",
       "        vertical-align: top;\n",
       "    }\n",
       "\n",
       "    .dataframe thead th {\n",
       "        text-align: right;\n",
       "    }\n",
       "</style>\n",
       "<table border=\"1\" class=\"dataframe\">\n",
       "  <thead>\n",
       "    <tr style=\"text-align: right;\">\n",
       "      <th></th>\n",
       "      <th>as_of_year</th>\n",
       "      <th>respondent_id</th>\n",
       "      <th>agency_name</th>\n",
       "      <th>agency_abbr</th>\n",
       "      <th>agency_code</th>\n",
       "      <th>loan_type_name</th>\n",
       "      <th>loan_type</th>\n",
       "      <th>loan_purpose_name</th>\n",
       "      <th>loan_purpose</th>\n",
       "      <th>owner_occupancy_name</th>\n",
       "      <th>...</th>\n",
       "      <th>lien_status_name</th>\n",
       "      <th>lien_status</th>\n",
       "      <th>population</th>\n",
       "      <th>minority_population</th>\n",
       "      <th>hud_median_family_income</th>\n",
       "      <th>tract_to_msamd_income</th>\n",
       "      <th>number_of_owner_occupied_units</th>\n",
       "      <th>number_of_1_to_4_family_units</th>\n",
       "      <th>latino</th>\n",
       "      <th>approve_bin</th>\n",
       "    </tr>\n",
       "  </thead>\n",
       "  <tbody>\n",
       "    <tr>\n",
       "      <th>0</th>\n",
       "      <td>2014</td>\n",
       "      <td>0000451965</td>\n",
       "      <td>Consumer Financial Protection Bureau</td>\n",
       "      <td>CFPB</td>\n",
       "      <td>9</td>\n",
       "      <td>Conventional</td>\n",
       "      <td>1</td>\n",
       "      <td>Refinancing</td>\n",
       "      <td>3</td>\n",
       "      <td>Owner-occupied as a principal dwelling</td>\n",
       "      <td>...</td>\n",
       "      <td>Secured by a first lien</td>\n",
       "      <td>1</td>\n",
       "      <td>2126.0</td>\n",
       "      <td>85.000000</td>\n",
       "      <td>60600.0</td>\n",
       "      <td>109.699997</td>\n",
       "      <td>433.0</td>\n",
       "      <td>528.0</td>\n",
       "      <td>0</td>\n",
       "      <td>1</td>\n",
       "    </tr>\n",
       "    <tr>\n",
       "      <th>1</th>\n",
       "      <td>2014</td>\n",
       "      <td>0000451965</td>\n",
       "      <td>Consumer Financial Protection Bureau</td>\n",
       "      <td>CFPB</td>\n",
       "      <td>9</td>\n",
       "      <td>Conventional</td>\n",
       "      <td>1</td>\n",
       "      <td>Refinancing</td>\n",
       "      <td>3</td>\n",
       "      <td>Owner-occupied as a principal dwelling</td>\n",
       "      <td>...</td>\n",
       "      <td>Secured by a first lien</td>\n",
       "      <td>1</td>\n",
       "      <td>13748.0</td>\n",
       "      <td>42.930000</td>\n",
       "      <td>72700.0</td>\n",
       "      <td>206.259995</td>\n",
       "      <td>2406.0</td>\n",
       "      <td>2882.0</td>\n",
       "      <td>0</td>\n",
       "      <td>1</td>\n",
       "    </tr>\n",
       "    <tr>\n",
       "      <th>2</th>\n",
       "      <td>2014</td>\n",
       "      <td>86-0860478</td>\n",
       "      <td>Department of Housing and Urban Development</td>\n",
       "      <td>HUD</td>\n",
       "      <td>7</td>\n",
       "      <td>Conventional</td>\n",
       "      <td>1</td>\n",
       "      <td>Home purchase</td>\n",
       "      <td>1</td>\n",
       "      <td>Owner-occupied as a principal dwelling</td>\n",
       "      <td>...</td>\n",
       "      <td>Secured by a first lien</td>\n",
       "      <td>1</td>\n",
       "      <td>2995.0</td>\n",
       "      <td>20.030001</td>\n",
       "      <td>72700.0</td>\n",
       "      <td>135.589996</td>\n",
       "      <td>952.0</td>\n",
       "      <td>1128.0</td>\n",
       "      <td>0</td>\n",
       "      <td>1</td>\n",
       "    </tr>\n",
       "    <tr>\n",
       "      <th>3</th>\n",
       "      <td>2014</td>\n",
       "      <td>0000480228</td>\n",
       "      <td>Consumer Financial Protection Bureau</td>\n",
       "      <td>CFPB</td>\n",
       "      <td>9</td>\n",
       "      <td>Conventional</td>\n",
       "      <td>1</td>\n",
       "      <td>Refinancing</td>\n",
       "      <td>3</td>\n",
       "      <td>Owner-occupied as a principal dwelling</td>\n",
       "      <td>...</td>\n",
       "      <td>Secured by a first lien</td>\n",
       "      <td>1</td>\n",
       "      <td>5266.0</td>\n",
       "      <td>17.260000</td>\n",
       "      <td>72700.0</td>\n",
       "      <td>152.929993</td>\n",
       "      <td>1614.0</td>\n",
       "      <td>1799.0</td>\n",
       "      <td>0</td>\n",
       "      <td>1</td>\n",
       "    </tr>\n",
       "    <tr>\n",
       "      <th>4</th>\n",
       "      <td>2014</td>\n",
       "      <td>7197000003</td>\n",
       "      <td>Department of Housing and Urban Development</td>\n",
       "      <td>HUD</td>\n",
       "      <td>7</td>\n",
       "      <td>Conventional</td>\n",
       "      <td>1</td>\n",
       "      <td>Refinancing</td>\n",
       "      <td>3</td>\n",
       "      <td>Owner-occupied as a principal dwelling</td>\n",
       "      <td>...</td>\n",
       "      <td>Secured by a first lien</td>\n",
       "      <td>1</td>\n",
       "      <td>4887.0</td>\n",
       "      <td>75.510002</td>\n",
       "      <td>60600.0</td>\n",
       "      <td>103.040001</td>\n",
       "      <td>778.0</td>\n",
       "      <td>1060.0</td>\n",
       "      <td>0</td>\n",
       "      <td>1</td>\n",
       "    </tr>\n",
       "  </tbody>\n",
       "</table>\n",
       "<p>5 rows × 52 columns</p>\n",
       "</div>"
      ],
      "text/plain": [
       "   as_of_year respondent_id                                  agency_name  \\\n",
       "0        2014    0000451965         Consumer Financial Protection Bureau   \n",
       "1        2014    0000451965         Consumer Financial Protection Bureau   \n",
       "2        2014    86-0860478  Department of Housing and Urban Development   \n",
       "3        2014    0000480228         Consumer Financial Protection Bureau   \n",
       "4        2014    7197000003  Department of Housing and Urban Development   \n",
       "\n",
       "  agency_abbr  agency_code loan_type_name  loan_type loan_purpose_name  \\\n",
       "0        CFPB            9   Conventional          1       Refinancing   \n",
       "1        CFPB            9   Conventional          1       Refinancing   \n",
       "2         HUD            7   Conventional          1     Home purchase   \n",
       "3        CFPB            9   Conventional          1       Refinancing   \n",
       "4         HUD            7   Conventional          1       Refinancing   \n",
       "\n",
       "   loan_purpose                    owner_occupancy_name  ...  \\\n",
       "0             3  Owner-occupied as a principal dwelling  ...   \n",
       "1             3  Owner-occupied as a principal dwelling  ...   \n",
       "2             1  Owner-occupied as a principal dwelling  ...   \n",
       "3             3  Owner-occupied as a principal dwelling  ...   \n",
       "4             3  Owner-occupied as a principal dwelling  ...   \n",
       "\n",
       "          lien_status_name  lien_status population  minority_population  \\\n",
       "0  Secured by a first lien            1     2126.0            85.000000   \n",
       "1  Secured by a first lien            1    13748.0            42.930000   \n",
       "2  Secured by a first lien            1     2995.0            20.030001   \n",
       "3  Secured by a first lien            1     5266.0            17.260000   \n",
       "4  Secured by a first lien            1     4887.0            75.510002   \n",
       "\n",
       "  hud_median_family_income  tract_to_msamd_income  \\\n",
       "0                  60600.0             109.699997   \n",
       "1                  72700.0             206.259995   \n",
       "2                  72700.0             135.589996   \n",
       "3                  72700.0             152.929993   \n",
       "4                  60600.0             103.040001   \n",
       "\n",
       "  number_of_owner_occupied_units  number_of_1_to_4_family_units latino  \\\n",
       "0                          433.0                          528.0      0   \n",
       "1                         2406.0                         2882.0      0   \n",
       "2                          952.0                         1128.0      0   \n",
       "3                         1614.0                         1799.0      0   \n",
       "4                          778.0                         1060.0      0   \n",
       "\n",
       "  approve_bin  \n",
       "0           1  \n",
       "1           1  \n",
       "2           1  \n",
       "3           1  \n",
       "4           1  \n",
       "\n",
       "[5 rows x 52 columns]"
      ]
     },
     "execution_count": 11,
     "metadata": {},
     "output_type": "execute_result"
    }
   ],
   "source": [
    "df.head()"
   ]
  },
  {
   "cell_type": "markdown",
   "id": "fb7b96fa-f4b6-4596-9e5a-d1b05d43133f",
   "metadata": {},
   "source": [
    "**Baseline Score**\n",
    "The baseline for the modeling of this study is the mean approval rate of the set."
   ]
  },
  {
   "cell_type": "code",
   "execution_count": 12,
   "id": "800e2ada-1118-4003-b017-0901a0716f97",
   "metadata": {},
   "outputs": [
    {
     "data": {
      "text/plain": [
       "denial_reason_3                   4698559\n",
       "denial_reason_name_3              4698559\n",
       "denial_reason_name_2              4617303\n",
       "denial_reason_2                   4617303\n",
       "denial_reason_name_1              4245896\n",
       "denial_reason_1                   4245896\n",
       "number_of_1_to_4_family_units        2138\n",
       "number_of_owner_occupied_units       1351\n",
       "tract_to_msamd_income                 850\n",
       "minority_population                   159\n",
       "population                            152\n",
       "hud_median_family_income               56\n",
       "census_tract_number                    56\n",
       "applicant_income_000s                   0\n",
       "purchaser_type_name                     0\n",
       "dtype: int64"
      ]
     },
     "execution_count": 12,
     "metadata": {},
     "output_type": "execute_result"
    }
   ],
   "source": [
    "df.isnull().sum().sort_values(ascending=False).head(15)"
   ]
  },
  {
   "cell_type": "code",
   "execution_count": 13,
   "id": "c866c77d-0458-4edf-b3e1-03bab5f81839",
   "metadata": {},
   "outputs": [
    {
     "data": {
      "text/plain": [
       "(4715850, 52)"
      ]
     },
     "execution_count": 13,
     "metadata": {},
     "output_type": "execute_result"
    }
   ],
   "source": [
    "df.shape"
   ]
  },
  {
   "cell_type": "code",
   "execution_count": 14,
   "id": "85e55e64-e4b1-4fcc-94f1-082d73163f9d",
   "metadata": {},
   "outputs": [],
   "source": [
    "df.dropna(axis=0,subset=['number_of_1_to_4_family_units','number_of_owner_occupied_units',\\\n",
    "                         'tract_to_msamd_income','minority_population','population',\\\n",
    "                         'hud_median_family_income','census_tract_number'], inplace=True)"
   ]
  },
  {
   "cell_type": "markdown",
   "id": "04d2547d-964e-4e94-898a-7586752ffe03",
   "metadata": {},
   "source": [
    "Dropping the NAN entries that are not the denial reasons, as they make up only a small fraction of the dataset"
   ]
  },
  {
   "cell_type": "code",
   "execution_count": 15,
   "id": "d87fd56a-4dfe-4f10-b4b3-f37a4ffbb8b1",
   "metadata": {
    "tags": []
   },
   "outputs": [
    {
     "data": {
      "text/plain": [
       "(4712341, 52)"
      ]
     },
     "execution_count": 15,
     "metadata": {},
     "output_type": "execute_result"
    }
   ],
   "source": [
    "df.shape"
   ]
  },
  {
   "cell_type": "code",
   "execution_count": 16,
   "id": "2aa97c37-c6a8-4e7c-96ea-2c0490d616f3",
   "metadata": {},
   "outputs": [
    {
     "data": {
      "text/plain": [
       "Home purchase       2327216\n",
       "Refinancing         2104057\n",
       "Home improvement     281068\n",
       "Name: loan_purpose_name, dtype: int64"
      ]
     },
     "execution_count": 16,
     "metadata": {},
     "output_type": "execute_result"
    }
   ],
   "source": [
    "df['loan_purpose_name'].value_counts(ascending=False)"
   ]
  },
  {
   "cell_type": "code",
   "execution_count": 17,
   "id": "05eef013-a6be-421b-a95a-7add8de64c97",
   "metadata": {},
   "outputs": [],
   "source": [
    "df=df[df['loan_purpose']==1].copy(deep=True)"
   ]
  },
  {
   "cell_type": "markdown",
   "id": "36c306fb-a9ed-4ba5-8dc3-321ea1daa53d",
   "metadata": {},
   "source": [
    "Filtering by loan type, we wish to only look at the loan's that were categorized as 'Home purchase'."
   ]
  },
  {
   "cell_type": "code",
   "execution_count": 18,
   "id": "6672a825-8a12-49a7-9f79-46f58c2fe093",
   "metadata": {},
   "outputs": [
    {
     "name": "stdout",
     "output_type": "stream",
     "text": [
      "Baseline mean approval of 78.22 %\n"
     ]
    }
   ],
   "source": [
    "print('Baseline mean approval of', round((df['approve_bin'].mean())*100,2),'%')"
   ]
  },
  {
   "cell_type": "code",
   "execution_count": 19,
   "id": "21ec0c5b-43e8-44f1-9d20-8a40291cd223",
   "metadata": {},
   "outputs": [
    {
     "data": {
      "text/plain": [
       "0.7898265768253617"
      ]
     },
     "execution_count": 19,
     "metadata": {},
     "output_type": "execute_result"
    }
   ],
   "source": [
    "df[(df['state_name']=='New York') & (df['as_of_year']==2017)].approve_bin.mean()"
   ]
  },
  {
   "cell_type": "markdown",
   "id": "398839f5-ce82-4e62-b6c5-59a052f92a7f",
   "metadata": {},
   "source": [
    "## EDA Descriptive/Numerical Metrics"
   ]
  },
  {
   "cell_type": "code",
   "execution_count": 20,
   "id": "c23263cf-98ee-4c67-bcda-a08c49a89031",
   "metadata": {},
   "outputs": [
    {
     "data": {
      "text/plain": [
       "Index(['as_of_year', 'respondent_id', 'agency_name', 'agency_abbr',\n",
       "       'agency_code', 'loan_type_name', 'loan_type', 'loan_purpose_name',\n",
       "       'loan_purpose', 'owner_occupancy_name', 'owner_occupancy',\n",
       "       'loan_amount_000s', 'preapproval_name', 'preapproval',\n",
       "       'action_taken_name', 'action_taken', 'msamd_name', 'msamd',\n",
       "       'state_name', 'county_name', 'census_tract_number',\n",
       "       'applicant_ethnicity_name', 'applicant_ethnicity',\n",
       "       'co_applicant_ethnicity_name', 'co_applicant_ethnicity',\n",
       "       'applicant_race_name_1', 'applicant_race_1', 'co_applicant_race_name_1',\n",
       "       'co_applicant_race_1', 'applicant_sex_name', 'co_applicant_sex_name',\n",
       "       'applicant_income_000s', 'purchaser_type_name', 'purchaser_type',\n",
       "       'denial_reason_name_1', 'denial_reason_1', 'denial_reason_name_2',\n",
       "       'denial_reason_2', 'denial_reason_name_3', 'denial_reason_3',\n",
       "       'hoepa_status_name', 'hoepa_status', 'lien_status_name', 'lien_status',\n",
       "       'population', 'minority_population', 'hud_median_family_income',\n",
       "       'tract_to_msamd_income', 'number_of_owner_occupied_units',\n",
       "       'number_of_1_to_4_family_units', 'latino', 'approve_bin'],\n",
       "      dtype='object')"
      ]
     },
     "execution_count": 20,
     "metadata": {},
     "output_type": "execute_result"
    }
   ],
   "source": [
    "df.columns"
   ]
  },
  {
   "cell_type": "markdown",
   "id": "69ff6eae-8dbd-4f87-a227-135aed1eba11",
   "metadata": {},
   "source": [
    "List of features we have narrowed down, with the addition of the engineered features of latino and approved_bin"
   ]
  },
  {
   "cell_type": "code",
   "execution_count": 21,
   "id": "29a991d4-8eff-492e-a32e-7062a1893296",
   "metadata": {},
   "outputs": [
    {
     "name": "stdout",
     "output_type": "stream",
     "text": [
      "There are 29 numerical features: \n",
      "\n",
      "['as_of_year', 'agency_code', 'loan_type', 'loan_purpose', 'owner_occupancy', 'loan_amount_000s', 'preapproval', 'action_taken', 'msamd', 'census_tract_number', 'applicant_ethnicity', 'co_applicant_ethnicity', 'applicant_race_1', 'co_applicant_race_1', 'applicant_income_000s', 'purchaser_type', 'denial_reason_1', 'denial_reason_2', 'denial_reason_3', 'hoepa_status', 'lien_status', 'population', 'minority_population', 'hud_median_family_income', 'tract_to_msamd_income', 'number_of_owner_occupied_units', 'number_of_1_to_4_family_units', 'latino', 'approve_bin']\n"
     ]
    }
   ],
   "source": [
    "numerical_features = df.select_dtypes(include='number').columns.tolist()\n",
    "print(f'There are {len(numerical_features)} numerical features:', '\\n')\n",
    "print(numerical_features)"
   ]
  },
  {
   "cell_type": "code",
   "execution_count": 22,
   "id": "d91b058c-d121-4289-9719-0a931964eeac",
   "metadata": {},
   "outputs": [
    {
     "name": "stdout",
     "output_type": "stream",
     "text": [
      "There are 23 numerical features: \n",
      "\n",
      "['respondent_id', 'agency_name', 'agency_abbr', 'loan_type_name', 'loan_purpose_name', 'owner_occupancy_name', 'preapproval_name', 'action_taken_name', 'msamd_name', 'state_name', 'county_name', 'applicant_ethnicity_name', 'co_applicant_ethnicity_name', 'applicant_race_name_1', 'co_applicant_race_name_1', 'applicant_sex_name', 'co_applicant_sex_name', 'purchaser_type_name', 'denial_reason_name_1', 'denial_reason_name_2', 'denial_reason_name_3', 'hoepa_status_name', 'lien_status_name']\n"
     ]
    }
   ],
   "source": [
    "numerical_features = df.select_dtypes(exclude='number').columns.tolist()\n",
    "print(f'There are {len(numerical_features)} numerical features:', '\\n')\n",
    "print(numerical_features)"
   ]
  },
  {
   "cell_type": "markdown",
   "id": "4348c59f-779d-48ba-9c93-2ca1f838414d",
   "metadata": {},
   "source": [
    "Due to the unfamiliarity of the dataset, it was chosen to use the data with both name tags and numerical encoding for the categories"
   ]
  },
  {
   "cell_type": "code",
   "execution_count": 23,
   "id": "5a520d13-7094-4b4a-881b-248a6a27580c",
   "metadata": {},
   "outputs": [
    {
     "data": {
      "text/plain": [
       "2017    0.286068\n",
       "2016    0.270182\n",
       "2015    0.242829\n",
       "2014    0.200922\n",
       "Name: as_of_year, dtype: float64"
      ]
     },
     "execution_count": 23,
     "metadata": {},
     "output_type": "execute_result"
    }
   ],
   "source": [
    "df['as_of_year'].value_counts(normalize=True,ascending=False)"
   ]
  },
  {
   "cell_type": "markdown",
   "id": "1d99432a-0af2-4a07-8f59-34c9fd86c5c7",
   "metadata": {},
   "source": [
    "Based on our sorting patterns to reduce outliers/edge cases, the data based on year recorded normalized"
   ]
  },
  {
   "cell_type": "code",
   "execution_count": 24,
   "id": "27c4ff94-741d-4ba1-aa21-c43d174dffa7",
   "metadata": {},
   "outputs": [
    {
     "data": {
      "text/plain": [
       "Texas         0.394129\n",
       "Florida       0.243131\n",
       "California    0.220412\n",
       "New York      0.142328\n",
       "Name: state_name, dtype: float64"
      ]
     },
     "execution_count": 24,
     "metadata": {},
     "output_type": "execute_result"
    }
   ],
   "source": [
    "df['state_name'].value_counts(normalize=True,ascending=False)"
   ]
  },
  {
   "cell_type": "markdown",
   "id": "91a8b0bf-2dbd-4513-85b8-fa7e14fb2c96",
   "metadata": {
    "tags": []
   },
   "source": [
    "Florida and Texas make up ~65% of the dataset"
   ]
  },
  {
   "cell_type": "code",
   "execution_count": 25,
   "id": "48db9b38-a3b4-4d96-ad43-b81abeaf764c",
   "metadata": {},
   "outputs": [
    {
     "data": {
      "text/plain": [
       "Houston, The Woodlands, Sugar Land - TX         0.173953\n",
       "Dallas, Plano, Irving - TX                      0.141893\n",
       "Los Angeles, Long Beach, Glendale - CA          0.108053\n",
       "New York, Jersey City, White Plains - NY, NJ    0.091554\n",
       "Tampa, St. Petersburg, Clearwater - FL          0.085355\n",
       "Austin, Round Rock - TX                         0.078283\n",
       "Orlando, Kissimmee, Sanford - FL                0.070349\n",
       "San Diego, Carlsbad - CA                        0.061470\n",
       "Oakland, Hayward, Berkeley - CA                 0.050889\n",
       "Nassau County, Suffolk County - NY              0.050774\n",
       "Jacksonville - FL                               0.046914\n",
       "Miami, Miami Beach, Kendall - FL                0.040513\n",
       "Name: msamd_name, dtype: float64"
      ]
     },
     "execution_count": 25,
     "metadata": {},
     "output_type": "execute_result"
    }
   ],
   "source": [
    "df['msamd_name'].value_counts(normalize=True,ascending=False)"
   ]
  },
  {
   "cell_type": "markdown",
   "id": "057e21ee-694a-45af-a13d-5fc10d9c96ee",
   "metadata": {},
   "source": [
    "A quick look at the percentage of samples based on location."
   ]
  },
  {
   "cell_type": "code",
   "execution_count": 26,
   "id": "9a83caf6-5179-4917-9b12-cd86260a3802",
   "metadata": {},
   "outputs": [
    {
     "data": {
      "text/plain": [
       "Male                        0.639681\n",
       "Female                      0.270836\n",
       "Information not Provided    0.059391\n",
       "Not applicable              0.030091\n",
       "Name: applicant_sex_name, dtype: float64"
      ]
     },
     "execution_count": 26,
     "metadata": {},
     "output_type": "execute_result"
    }
   ],
   "source": [
    "df['applicant_sex_name'].value_counts(normalize=True)"
   ]
  },
  {
   "cell_type": "markdown",
   "id": "7f8047f4-f774-4f99-8353-ff69ed7cea0a",
   "metadata": {},
   "source": [
    "Majority of applicants are male."
   ]
  },
  {
   "cell_type": "code",
   "execution_count": 27,
   "id": "578d282c-45aa-473b-a83b-967d58a858ee",
   "metadata": {},
   "outputs": [
    {
     "data": {
      "text/plain": [
       "White                               0.653445\n",
       "Asian                               0.118726\n",
       "Information not Provided            0.112333\n",
       "Black or African American           0.075130\n",
       "Not applicable                      0.030219\n",
       "Native Hawaiian/Pacific Islander    0.005092\n",
       "American Indian or Alaska Native    0.005054\n",
       "Name: applicant_race_name_1, dtype: float64"
      ]
     },
     "execution_count": 27,
     "metadata": {},
     "output_type": "execute_result"
    }
   ],
   "source": [
    "df['applicant_race_name_1'].value_counts(normalize=True)"
   ]
  },
  {
   "cell_type": "markdown",
   "id": "55edb653-5cc2-49df-b017-1da0fa5953f9",
   "metadata": {},
   "source": [
    "Majority applicant race is white with 65% of the samples falling in that category and additionally 'Information not Provided' is the third highest category by sample number."
   ]
  },
  {
   "cell_type": "code",
   "execution_count": 28,
   "id": "88b8af87-f68b-413e-9cf2-051dc7b9060e",
   "metadata": {},
   "outputs": [
    {
     "data": {
      "text/plain": [
       "applicant_race_name_1\n",
       "American Indian or Alaska Native    0.794494\n",
       "Asian                               0.812797\n",
       "Black or African American           0.755984\n",
       "Information not Provided            0.769643\n",
       "Native Hawaiian/Pacific Islander    0.803544\n",
       "Not applicable                      0.998907\n",
       "White                               0.816982\n",
       "Name: approve_bin, dtype: float64"
      ]
     },
     "execution_count": 28,
     "metadata": {},
     "output_type": "execute_result"
    }
   ],
   "source": [
    "df[df['state_name']=='California'].groupby('applicant_race_name_1').approve_bin.mean()"
   ]
  },
  {
   "cell_type": "code",
   "execution_count": 29,
   "id": "77622f74-e03a-4699-996f-c690c8c755ea",
   "metadata": {},
   "outputs": [
    {
     "data": {
      "text/plain": [
       "applicant_race_name_1\n",
       "American Indian or Alaska Native    0.726911\n",
       "Asian                               0.774367\n",
       "Black or African American           0.721438\n",
       "Information not Provided            0.700442\n",
       "Native Hawaiian/Pacific Islander    0.786033\n",
       "Not applicable                      0.994961\n",
       "White                               0.802314\n",
       "Name: approve_bin, dtype: float64"
      ]
     },
     "execution_count": 29,
     "metadata": {},
     "output_type": "execute_result"
    }
   ],
   "source": [
    "df[df['state_name']=='Texas'].groupby('applicant_race_name_1').approve_bin.mean()"
   ]
  },
  {
   "cell_type": "code",
   "execution_count": 30,
   "id": "24f697a2-367b-424b-b53b-7ed5fed65ff7",
   "metadata": {},
   "outputs": [
    {
     "data": {
      "text/plain": [
       "applicant_race_name_1\n",
       "American Indian or Alaska Native    0.698212\n",
       "Asian                               0.731054\n",
       "Black or African American           0.692121\n",
       "Information not Provided            0.673995\n",
       "Native Hawaiian/Pacific Islander    0.722169\n",
       "Not applicable                      0.997956\n",
       "White                               0.761812\n",
       "Name: approve_bin, dtype: float64"
      ]
     },
     "execution_count": 30,
     "metadata": {},
     "output_type": "execute_result"
    }
   ],
   "source": [
    "df[df['state_name']=='Florida'].groupby('applicant_race_name_1').approve_bin.mean()"
   ]
  },
  {
   "cell_type": "code",
   "execution_count": 31,
   "id": "a213d856-aee2-4573-84ab-2e610fe83ca5",
   "metadata": {},
   "outputs": [
    {
     "data": {
      "text/plain": [
       "applicant_race_name_1\n",
       "American Indian or Alaska Native    0.675223\n",
       "Asian                               0.761723\n",
       "Black or African American           0.708471\n",
       "Information not Provided            0.699794\n",
       "Native Hawaiian/Pacific Islander    0.707952\n",
       "Not applicable                      0.999043\n",
       "White                               0.789247\n",
       "Name: approve_bin, dtype: float64"
      ]
     },
     "execution_count": 31,
     "metadata": {},
     "output_type": "execute_result"
    }
   ],
   "source": [
    "df[df['state_name']=='New York'].groupby('applicant_race_name_1').approve_bin.mean()"
   ]
  },
  {
   "cell_type": "markdown",
   "id": "7ccad43a-e178-4d76-97ab-ebdfbbb904fd",
   "metadata": {},
   "source": [
    "Groupby splits for the states in question, we do see some trends with this EDA.  In all the sets Black/African American recorded applicant samples have lower approval numbers then the majority class (White applicants).  There is a significant number of applicants that do not have information provided for race and because this category is lower then the majority class for all states, it is very possible that this most likely contains more minority applicants then majority class applicants.  It should be noted that applicants that are recorded as Asian for California are at parity with White."
   ]
  },
  {
   "cell_type": "code",
   "execution_count": 32,
   "id": "909d8ab0-9558-4971-b495-5305fef3e340",
   "metadata": {},
   "outputs": [
    {
     "data": {
      "text/plain": [
       "purchaser_type_name\n",
       "Affiliate institution                                                           1.000000\n",
       "Commercial bank, savings bank or savings association                            1.000000\n",
       "Fannie Mae (FNMA)                                                               1.000000\n",
       "Farmer Mac (FAMC)                                                               1.000000\n",
       "Freddie Mac (FHLMC)                                                             1.000000\n",
       "Ginnie Mae (GNMA)                                                               1.000000\n",
       "Life insurance company, credit union, mortgage bank, or finance company         1.000000\n",
       "Loan was not originated or was not sold in calendar year covered by register    0.424595\n",
       "Other type of purchaser                                                         1.000000\n",
       "Private securitization                                                          1.000000\n",
       "Name: approve_bin, dtype: float64"
      ]
     },
     "execution_count": 32,
     "metadata": {},
     "output_type": "execute_result"
    }
   ],
   "source": [
    "df.groupby('purchaser_type_name').approve_bin.mean()"
   ]
  },
  {
   "cell_type": "markdown",
   "id": "c05b0274-e844-44a9-8b5d-530521689bf4",
   "metadata": {},
   "source": [
    "This feature will not be useful in modeling, but it could be interesting to look at the demographic splits of the loan purchasers."
   ]
  },
  {
   "cell_type": "code",
   "execution_count": 33,
   "id": "6498ee0b-b2eb-4f86-b878-952f6daba93d",
   "metadata": {},
   "outputs": [
    {
     "data": {
      "text/plain": [
       "lien_status_name\n",
       "Not applicable                   1.000000\n",
       "Secured by a first lien          0.754223\n",
       "Secured by a subordinate lien    0.707178\n",
       "Name: approve_bin, dtype: float64"
      ]
     },
     "execution_count": 33,
     "metadata": {},
     "output_type": "execute_result"
    }
   ],
   "source": [
    "df.groupby('lien_status_name').approve_bin.mean()"
   ]
  },
  {
   "cell_type": "code",
   "execution_count": 57,
   "id": "0d42129c-288f-4bc8-90b7-2f6308eac974",
   "metadata": {},
   "outputs": [
    {
     "data": {
      "text/html": [
       "<div>\n",
       "<style scoped>\n",
       "    .dataframe tbody tr th:only-of-type {\n",
       "        vertical-align: middle;\n",
       "    }\n",
       "\n",
       "    .dataframe tbody tr th {\n",
       "        vertical-align: top;\n",
       "    }\n",
       "\n",
       "    .dataframe thead th {\n",
       "        text-align: right;\n",
       "    }\n",
       "</style>\n",
       "<table border=\"1\" class=\"dataframe\">\n",
       "  <thead>\n",
       "    <tr style=\"text-align: right;\">\n",
       "      <th></th>\n",
       "      <th>approve_bin</th>\n",
       "      <th>minority_population</th>\n",
       "      <th>applicant_income_000s</th>\n",
       "      <th>hud_median_family_income</th>\n",
       "    </tr>\n",
       "    <tr>\n",
       "      <th>msamd_name</th>\n",
       "      <th></th>\n",
       "      <th></th>\n",
       "      <th></th>\n",
       "      <th></th>\n",
       "    </tr>\n",
       "  </thead>\n",
       "  <tbody>\n",
       "    <tr>\n",
       "      <th>Oakland, Hayward, Berkeley - CA</th>\n",
       "      <td>0.825592</td>\n",
       "      <td>58.090199</td>\n",
       "      <td>136.044643</td>\n",
       "      <td>93787.305474</td>\n",
       "    </tr>\n",
       "    <tr>\n",
       "      <th>San Diego, Carlsbad - CA</th>\n",
       "      <td>0.818685</td>\n",
       "      <td>46.570498</td>\n",
       "      <td>123.735060</td>\n",
       "      <td>75042.664010</td>\n",
       "    </tr>\n",
       "    <tr>\n",
       "      <th>Nassau County, Suffolk County - NY</th>\n",
       "      <td>0.810650</td>\n",
       "      <td>29.801468</td>\n",
       "      <td>115.486459</td>\n",
       "      <td>107929.220054</td>\n",
       "    </tr>\n",
       "    <tr>\n",
       "      <th>Los Angeles, Long Beach, Glendale - CA</th>\n",
       "      <td>0.802034</td>\n",
       "      <td>64.710707</td>\n",
       "      <td>122.361282</td>\n",
       "      <td>62899.148185</td>\n",
       "    </tr>\n",
       "    <tr>\n",
       "      <th>Dallas, Plano, Irving - TX</th>\n",
       "      <td>0.794837</td>\n",
       "      <td>38.509134</td>\n",
       "      <td>104.831316</td>\n",
       "      <td>71334.193177</td>\n",
       "    </tr>\n",
       "    <tr>\n",
       "      <th>Austin, Round Rock - TX</th>\n",
       "      <td>0.787037</td>\n",
       "      <td>40.546846</td>\n",
       "      <td>103.894638</td>\n",
       "      <td>78044.039477</td>\n",
       "    </tr>\n",
       "    <tr>\n",
       "      <th>Houston, The Woodlands, Sugar Land - TX</th>\n",
       "      <td>0.774528</td>\n",
       "      <td>48.212212</td>\n",
       "      <td>102.109012</td>\n",
       "      <td>69768.306136</td>\n",
       "    </tr>\n",
       "    <tr>\n",
       "      <th>New York, Jersey City, White Plains - NY, NJ</th>\n",
       "      <td>0.767156</td>\n",
       "      <td>50.262382</td>\n",
       "      <td>116.144294</td>\n",
       "      <td>71743.614859</td>\n",
       "    </tr>\n",
       "    <tr>\n",
       "      <th>Jacksonville - FL</th>\n",
       "      <td>0.759816</td>\n",
       "      <td>26.001307</td>\n",
       "      <td>86.963519</td>\n",
       "      <td>64006.233800</td>\n",
       "    </tr>\n",
       "    <tr>\n",
       "      <th>Tampa, St. Petersburg, Clearwater - FL</th>\n",
       "      <td>0.759238</td>\n",
       "      <td>30.248869</td>\n",
       "      <td>87.027925</td>\n",
       "      <td>58988.255135</td>\n",
       "    </tr>\n",
       "    <tr>\n",
       "      <th>Orlando, Kissimmee, Sanford - FL</th>\n",
       "      <td>0.756783</td>\n",
       "      <td>42.575258</td>\n",
       "      <td>87.058833</td>\n",
       "      <td>57498.053360</td>\n",
       "    </tr>\n",
       "    <tr>\n",
       "      <th>Miami, Miami Beach, Kendall - FL</th>\n",
       "      <td>0.714431</td>\n",
       "      <td>82.384018</td>\n",
       "      <td>87.878916</td>\n",
       "      <td>49656.596169</td>\n",
       "    </tr>\n",
       "  </tbody>\n",
       "</table>\n",
       "</div>"
      ],
      "text/plain": [
       "                                              approve_bin  \\\n",
       "msamd_name                                                  \n",
       "Oakland, Hayward, Berkeley - CA                  0.825592   \n",
       "San Diego, Carlsbad - CA                         0.818685   \n",
       "Nassau County, Suffolk County - NY               0.810650   \n",
       "Los Angeles, Long Beach, Glendale - CA           0.802034   \n",
       "Dallas, Plano, Irving - TX                       0.794837   \n",
       "Austin, Round Rock - TX                          0.787037   \n",
       "Houston, The Woodlands, Sugar Land - TX          0.774528   \n",
       "New York, Jersey City, White Plains - NY, NJ     0.767156   \n",
       "Jacksonville - FL                                0.759816   \n",
       "Tampa, St. Petersburg, Clearwater - FL           0.759238   \n",
       "Orlando, Kissimmee, Sanford - FL                 0.756783   \n",
       "Miami, Miami Beach, Kendall - FL                 0.714431   \n",
       "\n",
       "                                              minority_population  \\\n",
       "msamd_name                                                          \n",
       "Oakland, Hayward, Berkeley - CA                         58.090199   \n",
       "San Diego, Carlsbad - CA                                46.570498   \n",
       "Nassau County, Suffolk County - NY                      29.801468   \n",
       "Los Angeles, Long Beach, Glendale - CA                  64.710707   \n",
       "Dallas, Plano, Irving - TX                              38.509134   \n",
       "Austin, Round Rock - TX                                 40.546846   \n",
       "Houston, The Woodlands, Sugar Land - TX                 48.212212   \n",
       "New York, Jersey City, White Plains - NY, NJ            50.262382   \n",
       "Jacksonville - FL                                       26.001307   \n",
       "Tampa, St. Petersburg, Clearwater - FL                  30.248869   \n",
       "Orlando, Kissimmee, Sanford - FL                        42.575258   \n",
       "Miami, Miami Beach, Kendall - FL                        82.384018   \n",
       "\n",
       "                                              applicant_income_000s  \\\n",
       "msamd_name                                                            \n",
       "Oakland, Hayward, Berkeley - CA                          136.044643   \n",
       "San Diego, Carlsbad - CA                                 123.735060   \n",
       "Nassau County, Suffolk County - NY                       115.486459   \n",
       "Los Angeles, Long Beach, Glendale - CA                   122.361282   \n",
       "Dallas, Plano, Irving - TX                               104.831316   \n",
       "Austin, Round Rock - TX                                  103.894638   \n",
       "Houston, The Woodlands, Sugar Land - TX                  102.109012   \n",
       "New York, Jersey City, White Plains - NY, NJ             116.144294   \n",
       "Jacksonville - FL                                         86.963519   \n",
       "Tampa, St. Petersburg, Clearwater - FL                    87.027925   \n",
       "Orlando, Kissimmee, Sanford - FL                          87.058833   \n",
       "Miami, Miami Beach, Kendall - FL                          87.878916   \n",
       "\n",
       "                                              hud_median_family_income  \n",
       "msamd_name                                                              \n",
       "Oakland, Hayward, Berkeley - CA                           93787.305474  \n",
       "San Diego, Carlsbad - CA                                  75042.664010  \n",
       "Nassau County, Suffolk County - NY                       107929.220054  \n",
       "Los Angeles, Long Beach, Glendale - CA                    62899.148185  \n",
       "Dallas, Plano, Irving - TX                                71334.193177  \n",
       "Austin, Round Rock - TX                                   78044.039477  \n",
       "Houston, The Woodlands, Sugar Land - TX                   69768.306136  \n",
       "New York, Jersey City, White Plains - NY, NJ              71743.614859  \n",
       "Jacksonville - FL                                         64006.233800  \n",
       "Tampa, St. Petersburg, Clearwater - FL                    58988.255135  \n",
       "Orlando, Kissimmee, Sanford - FL                          57498.053360  \n",
       "Miami, Miami Beach, Kendall - FL                          49656.596169  "
      ]
     },
     "execution_count": 57,
     "metadata": {},
     "output_type": "execute_result"
    }
   ],
   "source": [
    "df.groupby('msamd_name')[['approve_bin','minority_population','applicant_income_000s','hud_median_family_income']].mean().sort_values(by='approve_bin',ascending=False)"
   ]
  },
  {
   "cell_type": "markdown",
   "id": "b3dd931f-6fc6-4ff3-811f-968aa817a5bb",
   "metadata": {},
   "source": [
    "Florida lags behind specifically Miami Beach in loan approval rate and additionally by mean applicant income.  Specifically looking at Miami Beach, the lowest approval rate of the metro area's specifically we are looking at and additionally the highest mean percentage of minority population.  It should be noted that the next two highest minority population mean percentage metro areas are both California, so clearly applicant income is strong deciding factor as well, but one must consider that the standard of living in these locations is much different.  Adjustments would need to be made to accurate reflect applicant income effect more precisely.  It is interesting to see how Housing Urban Development median family income numbers stack up to the approval rates (the median family income per the data dictionary is per MS/AMD).  Applicant overall income does look to be a stronger correlation."
   ]
  },
  {
   "cell_type": "code",
   "execution_count": 51,
   "id": "3e5482eb-182a-4f98-9143-db8b0073f3a9",
   "metadata": {},
   "outputs": [
    {
     "data": {
      "text/plain": [
       "loan_type_name      owner_occupancy_name                      \n",
       "Conventional        Owner-occupied as a principal dwelling        1433730\n",
       "FHA-insured         Owner-occupied as a principal dwelling         501905\n",
       "VA-guaranteed       Owner-occupied as a principal dwelling         198002\n",
       "Conventional        Not owner-occupied as a principal dwelling     173587\n",
       "FSA/RHS-guaranteed  Owner-occupied as a principal dwelling          18580\n",
       "Conventional        Not applicable                                    727\n",
       "FHA-insured         Not owner-occupied as a principal dwelling        343\n",
       "                    Not applicable                                    209\n",
       "VA-guaranteed       Not owner-occupied as a principal dwelling         53\n",
       "                    Not applicable                                     52\n",
       "FSA/RHS-guaranteed  Not applicable                                     16\n",
       "                    Not owner-occupied as a principal dwelling         12\n",
       "dtype: int64"
      ]
     },
     "execution_count": 51,
     "metadata": {},
     "output_type": "execute_result"
    }
   ],
   "source": [
    "df[['loan_type_name','owner_occupancy_name']].value_counts()"
   ]
  },
  {
   "cell_type": "markdown",
   "id": "21914d4d-be08-47c3-b808-602b0ab6aa5e",
   "metadata": {},
   "source": [
    "Plotting on the loan type will be done, most of the loans are being taken out for owner's own housing."
   ]
  },
  {
   "cell_type": "code",
   "execution_count": 52,
   "id": "77cacf36-133d-42ae-92ac-334a41bedd72",
   "metadata": {},
   "outputs": [
    {
     "data": {
      "text/plain": [
       "No co-applicant             1217173\n",
       "Not Hispanic or Latino       729422\n",
       "Hispanic or Latino           195289\n",
       "Information not Provided     126348\n",
       "Not applicable                58984\n",
       "Name: co_applicant_ethnicity_name, dtype: int64"
      ]
     },
     "execution_count": 52,
     "metadata": {},
     "output_type": "execute_result"
    }
   ],
   "source": [
    "df['co_applicant_ethnicity_name'].value_counts()"
   ]
  },
  {
   "cell_type": "markdown",
   "id": "d1e4d796-825f-4171-9797-f30acdc1e93b",
   "metadata": {},
   "source": [
    "Most of the applicants do not have a co-applicant and even more so do not fall in the latino designation"
   ]
  },
  {
   "cell_type": "code",
   "execution_count": 53,
   "id": "9b7b094b-71be-4bb7-a573-94165042c506",
   "metadata": {},
   "outputs": [
    {
     "data": {
      "text/plain": [
       "No co-applicant                     1217173\n",
       "White                                730160\n",
       "Information not Provided             134935\n",
       "Asian                                114283\n",
       "Black or African American             60584\n",
       "Not applicable                        58634\n",
       "Native Hawaiian/Pacific Islander       6557\n",
       "American Indian or Alaska Native       4890\n",
       "Name: co_applicant_race_name_1, dtype: int64"
      ]
     },
     "execution_count": 53,
     "metadata": {},
     "output_type": "execute_result"
    }
   ],
   "source": [
    "df['co_applicant_race_name_1'].value_counts()"
   ]
  },
  {
   "cell_type": "markdown",
   "id": "d07e9cd6-5575-46ad-b8f1-4ce156e16e4c",
   "metadata": {},
   "source": [
    "Again most applicant's are not filed with a co-applicant.  The vast majority of the samples are recorded as White."
   ]
  },
  {
   "cell_type": "code",
   "execution_count": 54,
   "id": "2fe00459-cea7-4b16-bd1c-df3dff080b56",
   "metadata": {},
   "outputs": [
    {
     "data": {
      "text/plain": [
       "Not a HOEPA loan    2327016\n",
       "HOEPA loan              200\n",
       "Name: hoepa_status_name, dtype: int64"
      ]
     },
     "execution_count": 54,
     "metadata": {},
     "output_type": "execute_result"
    }
   ],
   "source": [
    "df['hoepa_status_name'].value_counts()"
   ]
  },
  {
   "cell_type": "markdown",
   "id": "4d1afde0-b8dd-49c1-837c-9e34b6c0a62b",
   "metadata": {
    "tags": []
   },
   "source": [
    "Very few loans fall in the category of a loan that fall under the Home Ownership and Equity Protection Act.  The 200 entries are all approved so if further study was done with a larger number of samples that fell in this category in might be worth investigating the applicant parameters for a loan with this designation."
   ]
  },
  {
   "cell_type": "markdown",
   "id": "ab6416cb",
   "metadata": {},
   "source": [
    "## Plots"
   ]
  },
  {
   "cell_type": "code",
   "execution_count": null,
   "id": "3ff06a17",
   "metadata": {},
   "outputs": [],
   "source": [
    "plt.figure(figsize=(10, 7), facecolor=\"w\")\n",
    "\n",
    "sns.histplot(data=df, x=\"applicant_race_name_1\", hue=\"approve_bin\")\n",
    "plt.xticks(rotation=45)\n",
    "\n",
    "plt.title(\"Count of Applicants by Race:\\nApproved, Not Approved\", size=24)\n",
    "plt.xlabel(\"Applicant Race\", size=14)\n",
    "plt.ylabel(\"Count\", size=14);"
   ]
  },
  {
   "cell_type": "code",
   "execution_count": null,
   "id": "c8d6436f",
   "metadata": {},
   "outputs": [],
   "source": [
    "plt.figure(figsize=(10, 7), facecolor=\"w\")\n",
    "\n",
    "\n",
    "sns.histplot(data=df[(df[\"approve_bin\"] == 0)], x=\"applicant_race_name_1\", hue=\"denial_reason_name_1\",multiple='stack')\n",
    "plt.xticks(rotation=45)\n",
    "\n",
    "plt.title(\"Count of Applicants Denied by Race:\\nSplit by Denied Reason\", size=24)\n",
    "plt.xlabel(\"Applicant Race\", size=14)\n",
    "plt.ylabel(\"Count\", size=14);"
   ]
  },
  {
   "cell_type": "code",
   "execution_count": null,
   "id": "f9c11b5a",
   "metadata": {},
   "outputs": [],
   "source": [
    "plt.figure(figsize=(10, 10), facecolor=\"w\")\n",
    "\n",
    "ax = sns.countplot(data=df, x=\"loan_type_name\", hue=\"approve_bin\")\n",
    "\n",
    "totals = df[\"loan_type_name\"].value_counts().values\n",
    "np.append(totals, totals)\n",
    "\n",
    "for i, patch in enumerate(ax.patches):\n",
    "    if i > 3:\n",
    "        i = i-4\n",
    "    percent = f\"{(patch.get_height()/totals[i]):.2%}\"\n",
    "    x = patch.get_x() + patch.get_width()/6\n",
    "    y = patch.get_height() / 2\n",
    "    if i == 3:\n",
    "        y = patch.get_height() + 1000\n",
    "    ax.text(x, y, percent, color=\"k\")\n",
    "    \n",
    "plt.title(\"Loan Approval by Type\", size=24)\n",
    "plt.xlabel(\"Loan Type\", size=14)\n",
    "plt.ylabel(\"Count\", size=14);"
   ]
  },
  {
   "cell_type": "code",
   "execution_count": null,
   "id": "7b33c165",
   "metadata": {},
   "outputs": [],
   "source": [
    "fig = plt.figure(figsize=(10, 10), facecolor=\"w\")\n",
    "\n",
    "ax = sns.countplot(data=df, x=\"applicant_race_name_1\", hue=\"approve_bin\");\n",
    "plt.xticks(rotation=45)\n",
    "\n",
    "totals = df[\"applicant_race_name_1\"].value_counts().values\n",
    "np.append(totals, totals)\n",
    "\n",
    "for i, patch in enumerate(ax.patches):\n",
    "    if i > 6:\n",
    "        i = i-7\n",
    "    percent = f\"{(patch.get_height()/totals[i]):.2%}\"\n",
    "    x = patch.get_x() + patch.get_width()/3\n",
    "    y = patch.get_height() + 2000\n",
    "    ax.text(x, y, percent, color=\"k\", rotation=90)\n",
    "    \n",
    "plt.title(\"Loan Approval by Type\", size=24)\n",
    "plt.xlabel(\"Loan Type\", size=14)\n",
    "plt.ylabel(\"Count\", size=14);"
   ]
  },
  {
   "cell_type": "code",
   "execution_count": null,
   "id": "c57a84e1",
   "metadata": {},
   "outputs": [],
   "source": [
    "plt.figure(figsize=(10, 10), facecolor=\"w\")\n",
    "\n",
    "sns.countplot(data=df, x=\"loan_type_name\", hue=\"action_taken_name\");\n",
    "plt.xticks(rotation=45)\n",
    "plt.title(\"Loans by Type: Split by Result\", size=24)\n",
    "plt.xlabel(\"Loan Type\", size=14);"
   ]
  },
  {
   "cell_type": "markdown",
   "id": "e8164aca",
   "metadata": {},
   "source": [
    "| Race Name | Race Number  |\n",
    "| --------- | ------------ |\n",
    "| American Indian or Alaska Native | 1 |\n",
    "| Asian | 2 |\n",
    "| Black or African American | 3 |\n",
    "| Native Hawaiian or Other Pacific Islander | 4 |\n",
    "| White | 5 |\n",
    "| Information not provided by applicant | 6 |\n",
    "| N/A | 7 |\n",
    "| No co-applicant | 8 |"
   ]
  },
  {
   "cell_type": "code",
   "execution_count": null,
   "id": "52ad8303",
   "metadata": {},
   "outputs": [],
   "source": [
    "fig, axes = plt.subplots(2,3, figsize=(18,10), facecolor=\"w\")\n",
    "\n",
    "fig.suptitle('Plots Set 1')\n",
    "\n",
    "sns.histplot(ax=axes[0,0], data=df[df['loan_amount_000s']],x='loan_amount_000s')\n",
    "sns.histplot(ax=axes[0,1], data=df,x='applicant_race_1')\n",
    "sns.histplot(ax=axes[0,2], data=df,x='denial_reason_1')\n",
    "sns.kdeplot(ax=axes[1,0], data=df,x='applicant_income_000s')\n",
    "sns.kdeplot(ax=axes[1,1], data=df,x='minority_population')\n",
    "sns.histplot(ax=axes[1,2], data=df,x='denial_reason_2')"
   ]
  },
  {
   "cell_type": "code",
   "execution_count": null,
   "id": "eb9ca9d7",
   "metadata": {},
   "outputs": [],
   "source": [
    "plt.figure(figsize=(15,8), facecolor=\"w\")\n",
    "sns.voilinplot(data=df,x='applicant_race_1',y='applicant_income_000s',\n",
    "               hue='approve_bin')\n",
    "plt.title('Boxplots of tract percentage income', size=20);"
   ]
  },
  {
   "cell_type": "code",
   "execution_count": null,
   "id": "25847f6b-f6af-4e71-b064-cd5c7d8ae376",
   "metadata": {},
   "outputs": [],
   "source": [
    "# applicant race : 1 = American Indian or Alaska Native, 2 = Asian, 3 = Black or African American, 4 = Native Hawaiian or Other Pacific Islander\n",
    "# applicant race : 5 = White, 6 = Information not provided by applicant, 7 = N/A, 8 = No co-applicant\n",
    "\n",
    "#denial reasons : 1 = debt-income ratio, 2 = employment history, 3 = credit history, 4 = collateral, 5 = insufficient cash. 6 = Unverifiable information\n",
    "#dneial reasons : 7 = unverifiable information, 8 = mortgage insurance denied, 9 = other"
   ]
  },
  {
   "cell_type": "code",
   "execution_count": null,
   "id": "67f8195e",
   "metadata": {},
   "outputs": [],
   "source": [
    "sns.set(style='whitegrid', palette=\"deep\", font_scale=1.1, rc={\"figure.figsize\": [20, 10]})\n",
    "sns.distplot(df['applicant_income_000s'], norm_hist=False, kde=False, bins=50, hist_kws={\"alpha\": 1}\n",
    ").set(xlabel='Applicant Income Levels (Thousands)', ylabel='Count');\n",
    "plt.xticks([x for x in range(int(df['applicant_income_000s'].min()),\n",
    "                             int(df['applicant_income_000s'].max()),\n",
    "                             50)])\n",
    "plt.title('Application Income Levels');"
   ]
  },
  {
   "cell_type": "markdown",
   "id": "64deb5b0",
   "metadata": {},
   "source": [
    "## Plotly!"
   ]
  },
  {
   "cell_type": "code",
   "execution_count": null,
   "id": "1f5498ae-55d2-4042-a343-c56b40d5128f",
   "metadata": {},
   "outputs": [],
   "source": [
    "import plotly.graph_objects as go\n",
    "import plotly.express as px\n",
    "from plotly.subplots import make_subplots"
   ]
  },
  {
   "cell_type": "code",
   "execution_count": null,
   "id": "fab4b022-830e-49ed-80fe-445fc06e1224",
   "metadata": {},
   "outputs": [],
   "source": [
    "fig=px.histogram(df[~(df['applicant_race_name_1']=='White') &\\\n",
    "                   (df['loan_amount_000s']<600)],\n",
    "                 x='loan_amount_000s',\n",
    "                 color='approve_bin',\n",
    "                 nbins=200,\n",
    "                 color_discrete_sequence=[\"red\", \"blue\"],barmode='stack',\n",
    "                title='Non-White Applicant Loan Amount Coded by Approved/Disapproved Count')\n",
    "fig.update_layout(\n",
    "#     xaxis = dict(\n",
    "#     tickmode = 'linear',\n",
    "#     tick0=0,\n",
    "#     dtick=1\n",
    "#     ),\n",
    "    width=1400,\n",
    "    height=450)\n",
    "fig.show()"
   ]
  },
  {
   "cell_type": "code",
   "execution_count": null,
   "id": "5cf54c3e-c9fa-498f-9607-5adc2f2b7554",
   "metadata": {},
   "outputs": [],
   "source": [
    "fig=px.histogram(df[(df['applicant_race_name_1']=='White') &\\\n",
    "                   (df['loan_amount_000s']<500)],\\\n",
    "                 x='loan_amount_000s',\n",
    "                 color='approve_bin',\n",
    "                 nbins=100,\n",
    "                 color_discrete_sequence=[\"red\", \"blue\"],\n",
    "                 title='White Applicant Loan Amount Coded by Approved/Disapproved Count')\n",
    "fig.show()"
   ]
  },
  {
   "cell_type": "code",
   "execution_count": null,
   "id": "00c6618c-e7b5-464c-a3e1-228b65acef9a",
   "metadata": {},
   "outputs": [],
   "source": [
    "fig=px.histogram(df[~(df['applicant_race_name_1']=='White') &\\\n",
    "                   (df['loan_amount_000s']<500)],\\\n",
    "                 x='minority_population',\n",
    "                 color='approve_bin',\n",
    "                 nbins=100,\n",
    "                 color_discrete_sequence=[\"red\", \"blue\"],\n",
    "                 title='Non-White Applicant Minority Population Tract % Coded by Approved/Disapproved Count'\n",
    "                 )\n",
    "fig.update_layout(\n",
    "#     xaxis = dict(\n",
    "#     tickmode = 'linear',\n",
    "#     tick0=0,\n",
    "#     dtick=1\n",
    "#     ),\n",
    "    width=1400,\n",
    "    height=450)\n",
    "fig.show()"
   ]
  },
  {
   "cell_type": "code",
   "execution_count": null,
   "id": "f980381b-7689-494a-a416-9bce7f8b5ab9",
   "metadata": {},
   "outputs": [],
   "source": [
    "fig=px.histogram(df[(df['applicant_race_name_1']=='White') &\\\n",
    "                   (df['loan_amount_000s']<500)],\\\n",
    "                 x='minority_population',\n",
    "                 color='approve_bin',\n",
    "                 nbins=100,\n",
    "                 color_discrete_sequence=[\"red\", \"blue\"],\n",
    "                 title='White Applicant Minority Population Tract % Coded by Approved/Disapproved Count'\n",
    "                 )\n",
    "fig.show()"
   ]
  },
  {
   "cell_type": "code",
   "execution_count": null,
   "id": "48ea4153-3b2b-4f72-a47b-2465668ba1c0",
   "metadata": {},
   "outputs": [],
   "source": [
    "fig=px.histogram(df[~(df['applicant_race_name_1']=='White') &\\\n",
    "                   (df['applicant_income_000s']<300)],\\\n",
    "                 x='applicant_income_000s',\n",
    "                 color='approve_bin',\n",
    "                 nbins=100,\n",
    "                 color_discrete_sequence=[\"red\", \"blue\"]\n",
    "                 )\n",
    "xaxis = dict(\n",
    "tickmode = 'linear',\n",
    "tick0=40,\n",
    "dtick=40)\n",
    "fig.show()"
   ]
  },
  {
   "cell_type": "code",
   "execution_count": null,
   "id": "64cacfb7-4abc-4f07-92e4-3ed45966f4d3",
   "metadata": {},
   "outputs": [],
   "source": [
    "fig=px.histogram(df[(df['applicant_race_name_1']=='White') &\\\n",
    "                   (df['applicant_income_000s']<300)],\\\n",
    "                 x='applicant_income_000s',\n",
    "                 color='approve_bin',\n",
    "                 nbins=100,\n",
    "                 color_discrete_sequence=[\"red\", \"blue\"],\n",
    "                 )\n",
    "fig.show()"
   ]
  },
  {
   "cell_type": "code",
   "execution_count": null,
   "id": "347e5b67-afea-4e16-8212-ade105b73f0c",
   "metadata": {},
   "outputs": [],
   "source": [
    "df['latino'].value_counts(normalize=True)"
   ]
  },
  {
   "cell_type": "code",
   "execution_count": null,
   "id": "d473eaa6-53c0-4651-8112-3a3126ac03ea",
   "metadata": {},
   "outputs": [],
   "source": []
  },
  {
   "cell_type": "code",
   "execution_count": null,
   "id": "3b7b8475-cf35-4889-b124-21ffa6bf626d",
   "metadata": {},
   "outputs": [],
   "source": []
  },
  {
   "cell_type": "code",
   "execution_count": null,
   "id": "f8864ee5-bd79-4e7a-bea3-f72e7a10fe27",
   "metadata": {},
   "outputs": [],
   "source": []
  }
 ],
 "metadata": {
  "kernelspec": {
   "display_name": "Python 3",
   "language": "python",
   "name": "python3"
  },
  "language_info": {
   "codemirror_mode": {
    "name": "ipython",
    "version": 3
   },
   "file_extension": ".py",
   "mimetype": "text/x-python",
   "name": "python",
   "nbconvert_exporter": "python",
   "pygments_lexer": "ipython3",
   "version": "3.8.8"
  }
 },
 "nbformat": 4,
 "nbformat_minor": 5
}
