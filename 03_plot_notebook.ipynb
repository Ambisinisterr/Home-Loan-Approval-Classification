{
 "cells": [
  {
   "cell_type": "markdown",
   "id": "d2392db2",
   "metadata": {},
   "source": [
    "# All States\n",
    "----\n",
    "This contains the merged DataFrames of California, Texas, New York and Florida.\n",
    "\n",
    "Data is limited to:\n",
    " - Years 2014-2017\n",
    " - People over the 20<sup>th</sup> percentile and under the 90<sup>th</sup> percentile by state\n",
    " - People in the few major Metro Areas by state"
   ]
  },
  {
   "cell_type": "code",
   "execution_count": 1,
   "id": "088ff957",
   "metadata": {},
   "outputs": [],
   "source": [
    "# import pandas as pd\n",
    "# import numpy as np\n",
    "# import matplotlib.pyplot as plt\n",
    "# import seaborn as sns\n",
    "# import plotly.graph_objects as go\n",
    "# import plotly.express as px\n",
    "# from plotly.subplots import make_subplots\n",
    "\n",
    "# import json\n",
    "# from sklearn.linear_model import LogisticRegression\n",
    "# from sklearn.model_selection import train_test_split, GridSearchCV\n",
    "# from sklearn.impute import SimpleImputer\n",
    "# from sklearn.preprocessing import OneHotEncoder, MinMaxScaler\n",
    "# from sklearn.pipeline import Pipeline\n",
    "# from sklearn.compose import ColumnTransformer\n"
   ]
  },
  {
   "cell_type": "code",
   "execution_count": 2,
   "id": "ade0dfd8",
   "metadata": {},
   "outputs": [],
   "source": [
    "# def compress_dataframe(df, dictionary):\n",
    "#     df = df.copy(deep=True)\n",
    "    \n",
    "#     for col in dictionary.keys():\n",
    "#         df[col] = df[col].map(dictionary[col])\n",
    "#     return df"
   ]
  },
  {
   "cell_type": "code",
   "execution_count": 3,
   "id": "cae4303e",
   "metadata": {},
   "outputs": [],
   "source": [
    "# def reduce_large_strings(df):\n",
    "#     to_replace = [\"Information not provided by applicant in mail, Internet, or telephone application\",\n",
    "#                   \"Native Hawaiian or Other Pacific Islander\",\n",
    "#                   \"One-to-four family dwelling (other than manufactured housing)\"]\n",
    "#     replace_with = [\"Information not Provided\",\n",
    "#                     \"Native Hawaiian/Pacific Islander\",\n",
    "#                     \"1-4 Family House\"]\n",
    "#     for col in df.columns:\n",
    "#         if df[col].dtype == object:\n",
    "#             for i, _ in enumerate(to_replace):\n",
    "#                 df[col] = np.where(df[col] == to_replace[i], replace_with[i], df[col])            \n",
    "#     return df"
   ]
  },
  {
   "cell_type": "code",
   "execution_count": 4,
   "id": "c2c89487",
   "metadata": {},
   "outputs": [],
   "source": [
    "# # Code from Murmel on Stack Exchange\n",
    "# # https://stackoverflow.com/questions/1450957/pythons-json-module-converts-int-dictionary-keys-to-strings\n",
    "# def jsonKeys2int(x):\n",
    "#     if isinstance(x, dict):\n",
    "#         try:\n",
    "#             return {int(k):v for k,v in x.items()}\n",
    "#         except:\n",
    "#             pass #bad form\n",
    "#     return x"
   ]
  },
  {
   "cell_type": "markdown",
   "id": "0983819f",
   "metadata": {},
   "source": [
    "### Read In Merged DF and Decompression Dictionary\n",
    "----\n",
    "In order to reduce file size all categorical cells were converted into numbers and additionally compressed into a GZip file.\n",
    "\n",
    "The next three cells\n",
    "\n",
    "1. Reads in the numerical Dataframe\n",
    "2. Reads the JSON file which contains the key:value pairs to decode the DataFrame\n",
    "3. Executes a function that uses the JSON file to decompress/decode the numerical DataFrame."
   ]
  },
  {
   "cell_type": "code",
   "execution_count": 5,
   "id": "3d0ecc7b",
   "metadata": {},
   "outputs": [],
   "source": [
    "# df=pd.read_csv('./merged_df/merged_df.csv.gz', low_memory=False)"
   ]
  },
  {
   "cell_type": "code",
   "execution_count": 6,
   "id": "2aa4efcb",
   "metadata": {},
   "outputs": [],
   "source": [
    "# df.to_csv(\"./merged_df/merged_df.csv\", index=False)"
   ]
  },
  {
   "cell_type": "code",
   "execution_count": 7,
   "id": "63fe7889",
   "metadata": {},
   "outputs": [],
   "source": [
    "# # with open(\"./json_files/decompression_dictionary.json\", \"r\") as json_file:\n",
    "#     decompression_dictionary = json.load(json_file, object_hook=jsonKeys2int)"
   ]
  },
  {
   "cell_type": "code",
   "execution_count": 8,
   "id": "000db7e7",
   "metadata": {},
   "outputs": [],
   "source": [
    "# df = compress_dataframe(df, decompression_dictionary)"
   ]
  },
  {
   "cell_type": "markdown",
   "id": "37f3bbe5",
   "metadata": {},
   "source": [
    "### Quick Clean"
   ]
  },
  {
   "cell_type": "code",
   "execution_count": 9,
   "id": "99c874db",
   "metadata": {},
   "outputs": [],
   "source": [
    "# df = reduce_large_strings(df)"
   ]
  },
  {
   "cell_type": "code",
   "execution_count": 10,
   "id": "bfe8a1a4",
   "metadata": {},
   "outputs": [],
   "source": [
    "# #cast numerical features back to correct values\n",
    "# numerical_features = ['as_of_year', 'agency_code', 'loan_type', 'loan_purpose',\n",
    "#                       'owner_occupancy', 'loan_amount_000s', 'preapproval',\n",
    "#                       'action_taken', 'msamd', 'census_tract_number', 'applicant_ethnicity',\n",
    "#                       'co_applicant_ethnicity', 'applicant_race_1', 'co_applicant_race_1',\n",
    "#                       'applicant_income_000s', 'purchaser_type', 'denial_reason_1',\n",
    "#                       'denial_reason_2', 'denial_reason_3', 'hoepa_status', 'lien_status',\n",
    "#                       'population', 'minority_population', 'hud_median_family_income',\n",
    "#                       'tract_to_msamd_income', 'number_of_owner_occupied_units',\n",
    "#                       'number_of_1_to_4_family_units', 'latino', 'approve_bin']\n",
    "# dtypes = [int, int, int, int, int, float, int, int, float, float, int, int, int,int,\n",
    "#           float, int, float, float, float, int, int, float, float, float, float, float,\n",
    "#           float, int, int]\n",
    "# for col, dtype in zip(numerical_features, dtypes):\n",
    "#     df[col] = df[col].astype(dtype)"
   ]
  },
  {
   "cell_type": "code",
   "execution_count": 11,
   "id": "e489657d",
   "metadata": {},
   "outputs": [],
   "source": [
    "# df.head()"
   ]
  },
  {
   "cell_type": "markdown",
   "id": "fb7b96fa-f4b6-4596-9e5a-d1b05d43133f",
   "metadata": {},
   "source": [
    "**Baseline Score**\n",
    "The baseline for the modeling of this study is the mean approval rate of the set."
   ]
  },
  {
   "cell_type": "code",
   "execution_count": 12,
   "id": "800e2ada-1118-4003-b017-0901a0716f97",
   "metadata": {
    "tags": []
   },
   "outputs": [],
   "source": [
    "# df.isnull().sum().sort_values(ascending=False).head(15)"
   ]
  },
  {
   "cell_type": "code",
   "execution_count": 13,
   "id": "c866c77d-0458-4edf-b3e1-03bab5f81839",
   "metadata": {},
   "outputs": [],
   "source": [
    "# df.shape"
   ]
  },
  {
   "cell_type": "code",
   "execution_count": 14,
   "id": "85e55e64-e4b1-4fcc-94f1-082d73163f9d",
   "metadata": {},
   "outputs": [],
   "source": [
    "# df.dropna(axis=0,subset=['number_of_1_to_4_family_units','number_of_owner_occupied_units',\\\n",
    "#                          'tract_to_msamd_income','minority_population','population',\\\n",
    "#                          'hud_median_family_income','census_tract_number'], inplace=True)"
   ]
  },
  {
   "cell_type": "markdown",
   "id": "04d2547d-964e-4e94-898a-7586752ffe03",
   "metadata": {},
   "source": [
    "Dropping the NAN entries that are not the denial reasons, as they make up only a small fraction of the dataset"
   ]
  },
  {
   "cell_type": "code",
   "execution_count": 15,
   "id": "d87fd56a-4dfe-4f10-b4b3-f37a4ffbb8b1",
   "metadata": {
    "tags": []
   },
   "outputs": [],
   "source": [
    "# df.shape"
   ]
  },
  {
   "cell_type": "code",
   "execution_count": 16,
   "id": "05eef013-a6be-421b-a95a-7add8de64c97",
   "metadata": {},
   "outputs": [],
   "source": [
    "# df=df[df['loan_purpose']==1].copy(deep=True)"
   ]
  },
  {
   "cell_type": "markdown",
   "id": "36c306fb-a9ed-4ba5-8dc3-321ea1daa53d",
   "metadata": {},
   "source": [
    "Filtering by loan type, we wish to only look at the loan's that were categorized as 'Home purchase'."
   ]
  },
  {
   "cell_type": "code",
   "execution_count": 17,
   "id": "41ed8834-3d4e-4bbd-b688-2fb12a6a643e",
   "metadata": {},
   "outputs": [],
   "source": [
    "# df.shape"
   ]
  },
  {
   "cell_type": "markdown",
   "id": "64deb5b0",
   "metadata": {},
   "source": [
    "## Plotly!"
   ]
  },
  {
   "cell_type": "code",
   "execution_count": 18,
   "id": "1f5498ae-55d2-4042-a343-c56b40d5128f",
   "metadata": {},
   "outputs": [],
   "source": [
    "# import plotly.graph_objects as go\n",
    "# import plotly.express as px\n",
    "# from plotly.subplots import make_subplots"
   ]
  },
  {
   "cell_type": "code",
   "execution_count": 19,
   "id": "1e9e9892-008c-4499-95ff-6df7c455fd8a",
   "metadata": {},
   "outputs": [],
   "source": [
    "# fig=px.histogram(df[~(df['applicant_race_name_1']=='White') &\\\n",
    "#                    (df['loan_amount_000s']<600)],\n",
    "#                  x='loan_amount_000s',\n",
    "#                  color='approve_bin',\n",
    "#                  nbins=200,\n",
    "#                  color_discrete_sequence=[\"blue\", \"red\"],barmode='stack',\n",
    "#                 title='Minority Applicant Loan Amount by Approved/Denied Count')\n",
    "# fig.update_layout(\n",
    "# #     xaxis = dict(\n",
    "# #     tickmode = 'linear',\n",
    "# #     tick0=0,\n",
    "# #     dtick=1\n",
    "# #     ),\n",
    "#     width=1400,\n",
    "#     height=450)\n",
    "# fig.show()"
   ]
  },
  {
   "cell_type": "code",
   "execution_count": 20,
   "id": "5cf54c3e-c9fa-498f-9607-5adc2f2b7554",
   "metadata": {},
   "outputs": [],
   "source": [
    "# fig=px.histogram(df[(df['applicant_race_name_1']=='White') &\\\n",
    "#                    (df['loan_amount_000s']<500)],\\\n",
    "#                  x='loan_amount_000s',\n",
    "#                  color='approve_bin',\n",
    "#                  nbins=100,\n",
    "#                  color_discrete_sequence=[\"blue\", \"red\"],\n",
    "#                  title='White Applicant Loan Amount by Approved/Denied Count')\n",
    "# fig.update_layout(\n",
    "# #     xaxis = dict(\n",
    "# #     tickmode = 'linear',\n",
    "# #     tick0=0,\n",
    "# #     dtick=1\n",
    "# #     ),\n",
    "#     width=1400,\n",
    "#     height=450)\n",
    "# fig.show()"
   ]
  },
  {
   "cell_type": "code",
   "execution_count": 21,
   "id": "00c6618c-e7b5-464c-a3e1-228b65acef9a",
   "metadata": {},
   "outputs": [],
   "source": [
    "# fig=px.histogram(df[~(df['applicant_race_name_1']=='White') &\\\n",
    "#                    (df['loan_amount_000s']<500)],\\\n",
    "#                  x='minority_population',\n",
    "#                  color='approve_bin',\n",
    "#                  nbins=100,\n",
    "#                  color_discrete_sequence=[\"blue\", \"red\"],\n",
    "#                  title='Minority Applicant Population Tract Percentage by Approved/Denied Count'\n",
    "#                  )\n",
    "# fig.update_layout(\n",
    "# #     xaxis = dict(\n",
    "# #     tickmode = 'linear',\n",
    "# #     tick0=0,\n",
    "# #     dtick=1\n",
    "# #     ),\n",
    "#     width=1400,\n",
    "#     height=450)\n",
    "# fig.show()"
   ]
  },
  {
   "cell_type": "code",
   "execution_count": 22,
   "id": "f980381b-7689-494a-a416-9bce7f8b5ab9",
   "metadata": {},
   "outputs": [],
   "source": [
    "# fig=px.histogram(df[(df['applicant_race_name_1']=='White') &\\\n",
    "#                    (df['loan_amount_000s']<500)],\\\n",
    "#                  x='minority_population',\n",
    "#                  color='approve_bin',\n",
    "#                  nbins=100,\n",
    "#                  color_discrete_sequence=[\"blue\", \"red\"],\n",
    "#                  title='White Applicant Minority Population Tract Percentage by Approved/Denied Count'\n",
    "#                  )\n",
    "# fig.update_layout(\n",
    "# #     xaxis = dict(\n",
    "# #     tickmode = 'linear',\n",
    "# #     tick0=0,\n",
    "# #     dtick=1\n",
    "# #     ),\n",
    "#     width=1400,\n",
    "#     height=450)\n",
    "# fig.show()"
   ]
  },
  {
   "cell_type": "code",
   "execution_count": 23,
   "id": "48ea4153-3b2b-4f72-a47b-2465668ba1c0",
   "metadata": {
    "tags": []
   },
   "outputs": [],
   "source": [
    "# fig=px.histogram(df[~(df['applicant_race_name_1']=='White') &\\\n",
    "#                    (df['applicant_income_000s']<300)],\\\n",
    "#                  x='applicant_income_000s',\n",
    "#                  color='approve_bin',\n",
    "#                  nbins=100,\n",
    "#                  color_discrete_sequence=[\"blue\", \"red\"],\n",
    "#                  title='Minority Applicant Income < $300,000 by Approved/Denied Count'\n",
    "#                  )\n",
    "# xaxis = dict(\n",
    "# tickmode = 'linear',\n",
    "# tick0=40,\n",
    "# dtick=40),\n",
    "# fig.update_layout(\n",
    "# #     xaxis = dict(\n",
    "# #     tickmode = 'linear',\n",
    "# #     tick0=0,\n",
    "# #     dtick=1\n",
    "# #     ),\n",
    "#     width=1400,\n",
    "#     height=450)\n",
    "# fig.show()"
   ]
  },
  {
   "cell_type": "code",
   "execution_count": 24,
   "id": "64cacfb7-4abc-4f07-92e4-3ed45966f4d3",
   "metadata": {},
   "outputs": [],
   "source": [
    "# fig=px.histogram(df[(df['applicant_race_name_1']=='White') &\\\n",
    "#                    (df['applicant_income_000s']<300)],\\\n",
    "#                  x='applicant_income_000s',\n",
    "#                  color='approve_bin',\n",
    "#                  nbins=100,\n",
    "#                  color_discrete_sequence=[\"blue\", \"red\"],\n",
    "#                  title='White Applicant Income < $300,000 by Approved/Denied Count'\n",
    "#                  )\n",
    "# fig.update_layout(\n",
    "# #     xaxis = dict(\n",
    "# #     tickmode = 'linear',\n",
    "# #     tick0=0,\n",
    "# #     dtick=1\n",
    "# #     ),\n",
    "#     width=1400,\n",
    "#     height=450)\n",
    "# fig.show()"
   ]
  },
  {
   "cell_type": "code",
   "execution_count": 25,
   "id": "347e5b67-afea-4e16-8212-ade105b73f0c",
   "metadata": {},
   "outputs": [],
   "source": [
    "#df['latino'].value_counts(normalize=True)"
   ]
  },
  {
   "cell_type": "code",
   "execution_count": 26,
   "id": "d473eaa6-53c0-4651-8112-3a3126ac03ea",
   "metadata": {},
   "outputs": [],
   "source": [
    "# df_race=pd.crosstab(df['applicant_race_name_1'], df['approve_bin'])\n",
    "# df_race=df_race.reset_index()\n",
    "# df_race.columns=['race','not approved','approved']\n",
    "# l=[]\n",
    "# for x in range(df_race.shape[0]):\n",
    "#     l.append(df_race['approved'][x]/(df_race['approved'][x]+ df_race['not approved'][x]))\n",
    "# df_race['percent approved']=[x*100 for x in np.array(l)]\n",
    "# df_race['percent not approved']=[100-x for x in df_race['percent approved']]\n",
    "\n",
    "# fig = go.Figure(data=[\n",
    "# go.Scatter(x=df_race['race'],\n",
    "#                  y=df_race['percent approved'],\n",
    "#                  name='percent approved'),\n",
    "# go.Scatter(x=df_race['race'],\n",
    "#                  y=df_race['percent not approved'],\n",
    "#                  name='percent not approved')\n",
    "# ], layout={'title':'Loan Approval Rate by Race','xaxis_title':'Applicant Race', 'yaxis_title':'Approval Rate','title_x':0.5})\n",
    "# fig.update_layout(xaxis_tickangle = -45, height=600, width=1200)  \n",
    "# fig.show()"
   ]
  },
  {
   "cell_type": "code",
   "execution_count": 27,
   "id": "3b7b8475-cf35-4889-b124-21ffa6bf626d",
   "metadata": {},
   "outputs": [],
   "source": [
    "# race_to_remove = ['Information not Provided', 'Not applicable']\n",
    "# tmp = df[~df['applicant_race_name_1'].isin(race_to_remove)]\n",
    "\n",
    "# tmp = tmp[['applicant_race_name_1','approve_bin']]\\\n",
    "#              .groupby(['applicant_race_name_1','approve_bin'])\\\n",
    "#              .size().reset_index().rename(columns={0:'count'})\n",
    "# #MIN-MAX Normalization\n",
    "# #tmp['count'] = (tmp['count']-tmp['count'].min())/(tmp['count'].max()-tmp['count'].min())\n",
    "\n",
    "# #Filtering\n",
    "# tmp['percentage']= df[~df['applicant_race_name_1'].isin(race_to_remove)][['applicant_race_name_1','approve_bin']]\\\n",
    "#                   .groupby(['applicant_race_name_1','approve_bin'])\\\n",
    "#                   .size().groupby(level=0).apply(lambda x: 100 * x / float(x.sum())).values\n",
    "# #Figure Object\n",
    "# fig = go.Figure(data=[\n",
    "#     go.Bar(name='Approved', x=tmp[tmp['approve_bin']==1]['applicant_race_name_1'], y=tmp[tmp['approve_bin']==1]['percentage'],text=tmp[tmp['approve_bin']==1]['percentage'].apply(lambda x: '{:.1f}%'.format(x)), textposition = 'auto'),\n",
    "#     go.Bar(name='Denied', x=tmp[tmp['approve_bin']==0]['applicant_race_name_1'], y=tmp[tmp['approve_bin']==0]['percentage'], text=tmp[tmp['approve_bin']==0]['percentage'].apply(lambda x: '{:.1f}%'.format(x)))\n",
    "# ], layout={'title':'Loan Approval Rate by Race','xaxis_title':'Applicant Race', 'yaxis_title':'Approval Rate (%)', 'title_x':0.5})\n",
    "# fig.update_layout(xaxis_tickangle = -45, height=600, width=1200)  \n",
    "# fig.show()"
   ]
  },
  {
   "cell_type": "code",
   "execution_count": 28,
   "id": "f8864ee5-bd79-4e7a-bea3-f72e7a10fe27",
   "metadata": {},
   "outputs": [],
   "source": [
    "# tmp = df[(df['approve_bin']==0) & (~df['applicant_race_name_1'].isin(race_to_remove))]\\\n",
    "#               [['applicant_race_name_1','denial_reason_name_1']]\\\n",
    "#              .groupby(['applicant_race_name_1','denial_reason_name_1'])\\\n",
    "#              .size().reset_index().rename(columns={0:'count'})\n",
    "# tmp['percentage']= df[(df['approve_bin']==0) & (~df['applicant_race_name_1'].isin(race_to_remove))]\\\n",
    "#                   [['applicant_race_name_1','denial_reason_name_1']]\\\n",
    "#                   .groupby(['applicant_race_name_1','denial_reason_name_1'])\\\n",
    "#                   .size().groupby(level=0).apply(lambda x: 100 * x / float(x.sum())).values\n",
    "# fig = px.bar(tmp,\n",
    "#              x = 'applicant_race_name_1',\n",
    "#              y = 'percentage',\n",
    "#              color = 'denial_reason_name_1',\n",
    "#              hover_data = ['count','percentage','denial_reason_name_1'],\n",
    "#              title = 'Denial Reasons Rate by Race',\n",
    "#              labels = {'applicant_race_name_1': 'Applicant Race', 'denial_reason_name_1':'Denial Reason'})\n",
    "# fig.update_layout(xaxis_tickangle = -45, height=700, width=1200, title_x=0.5)             \n",
    "# fig.show()"
   ]
  },
  {
   "cell_type": "code",
   "execution_count": 29,
   "id": "218f246c-0b87-4ba9-a871-f16bb5b91b18",
   "metadata": {},
   "outputs": [],
   "source": [
    "# tmp = df[['loan_type_name','approve_bin']]\\\n",
    "#              .groupby(['loan_type_name','approve_bin'])\\\n",
    "#              .size().reset_index().rename(columns={0:'count'})\n",
    "# tmp['percentage'] = df[['loan_type_name','approve_bin']]\\\n",
    "#                   .groupby(['loan_type_name','approve_bin'])\\\n",
    "#                   .size().groupby(level=0).apply(lambda x: 100 * x / float(x.sum())).values\n",
    "# fig = go.Figure(data=[\n",
    "#     go.Bar(name='Approved', x=tmp[tmp['approve_bin']==1]['loan_type_name'], y=tmp[tmp['approve_bin']==1]['percentage'],text=tmp[tmp['approve_bin']==1]['percentage'].apply(lambda x: '{:.1f}%'.format(x)), textposition = 'auto'),\n",
    "#     go.Bar(name='Denied', x=tmp[tmp['approve_bin']==0]['loan_type_name'], y=tmp[tmp['approve_bin']==0]['percentage'], text=tmp[tmp['approve_bin']==0]['percentage'].apply(lambda x: '{:.1f}%'.format(x)))\n",
    "# ], layout={'title':'Loan Approval Percentage by Loan Type','xaxis_title':'Loan Type', 'yaxis_title':'Percentage', 'title_x':0.5})\n",
    "# fig.update_layout(xaxis_tickangle = -45, height=600, width=1200) \n",
    "# fig.show()"
   ]
  },
  {
   "cell_type": "code",
   "execution_count": 30,
   "id": "94286312-9b73-4248-bf81-ed5cbd75f38e",
   "metadata": {},
   "outputs": [],
   "source": [
    "# tmp = df[['latino','approve_bin']]\\\n",
    "#              .groupby(['latino','approve_bin'])\\\n",
    "#              .size().reset_index().rename(columns={0:'count'})\n",
    "# tmp['percentage']= df[['latino','approve_bin']]\\\n",
    "#                   .groupby(['latino','approve_bin'])\\\n",
    "#                   .size().groupby(level=0).apply(lambda x: 100 * x / float(x.sum())).values\n",
    "# fig = go.Figure(data=[\n",
    "#     go.Bar(name='Approved', x=tmp[tmp['approve_bin']==1]['latino'], y=tmp[tmp['approve_bin']==1]['percentage'],text=tmp[tmp['approve_bin']==1]['count'], textposition = 'auto'),\n",
    "#     go.Bar(name='Denied', x=tmp[tmp['approve_bin']==0]['latino'], y=tmp[tmp['approve_bin']==0]['percentage'], text=tmp[tmp['approve_bin']==0]['count'])\n",
    "# ], layout={'title':'Loan Approval Rate for Hispanics','xaxis_title':'Ethnicity', 'yaxis_title':'percentage', 'title_x':0.5})\n",
    "# fig.update_layout(height=600, width=1200)\n",
    "# fig.show()"
   ]
  },
  {
   "cell_type": "code",
   "execution_count": 31,
   "id": "c4752f58-1fa5-4110-a403-a66e5f5e6de0",
   "metadata": {},
   "outputs": [],
   "source": [
    "# tmp = df[~df.applicant_race_name_1.isin(race_to_remove)][['applicant_race_name_1','approve_bin','loan_amount_000s','applicant_income_000s','latino']]\\\n",
    "#              .groupby(['applicant_race_name_1','approve_bin','latino'])\\\n",
    "#              .mean().reset_index()\n",
    "# tmp['loan_to_income_ratio']= tmp['applicant_income_000s']/tmp['loan_amount_000s']\n",
    "\n",
    "# fig = go.Figure(data=[\n",
    "#     go.Bar(name='Approved-Latino', x=tmp[(tmp['approve_bin']==1) & (tmp.latino==1)]['applicant_race_name_1'], y=tmp[(tmp['approve_bin']==1) & (tmp.latino==1)]['loan_to_income_ratio']),\n",
    "#     go.Bar(name='Denied-Latino', x=tmp[(tmp['approve_bin']==0) & (tmp.latino==1)]['applicant_race_name_1'], y=tmp[(tmp['approve_bin']==0) & (tmp.latino==1)]['loan_to_income_ratio']),\n",
    "#     go.Bar(name='Approved-Non-Latino', x=tmp[(tmp['approve_bin']==1) & (tmp.latino==0)]['applicant_race_name_1'], y=tmp[(tmp['approve_bin']==1) & (tmp.latino==0)]['loan_to_income_ratio']),\n",
    "#     go.Bar(name='Denied-Non-Latino', x=tmp[(tmp['approve_bin']==0) & (tmp.latino==0)]['applicant_race_name_1'], y=tmp[(tmp['approve_bin']==0) & (tmp.latino==0)]['loan_to_income_ratio'])\n",
    "    \n",
    "# ], layout={'title':'Loan Amount to Income by Race','xaxis_title':'Race', 'yaxis_title':'Loan-amount-to-income-ratio', 'title_x':0.5})\n",
    "# fig.update_layout(xaxis_tickangle = -45, height=600, width=1400, title_x=0.5)\n",
    "# fig.show()"
   ]
  },
  {
   "cell_type": "code",
   "execution_count": 32,
   "id": "025e912c-741d-47e5-a8b9-445f681df0b5",
   "metadata": {},
   "outputs": [],
   "source": [
    "# tmp_minority = df[df.applicant_race_name_1 != 'White'][['msamd_name']].groupby(['msamd_name']).size().reset_index().rename(columns={0:'minority'})\n",
    "# tmp = df[['msamd_name','minority_population']].groupby(['msamd_name']).mean().reset_index().rename(columns={0:'minority_avg'})\n",
    "\n",
    "# tmp_minority['minority_percentage'] = tmp_minority['minority']/df[~(df.applicant_race_name_1.isin(race_to_remove))].groupby(['msamd_name']).size().reset_index().rename(columns={0:'count'})['count']*100\n",
    "# #.apply(lambda x: 100 * x / df[~(df.applicant_race_name_1.isin(race_to_remove))].shape[0]).values\n",
    "\n",
    "# fig = go.Figure(data=[\n",
    "#     go.Bar(name='Minority Applicants', y=tmp_minority['msamd_name'], x=tmp_minority['minority_percentage'], orientation='h'),\n",
    "#     go.Bar(name='Minority Population', y=tmp['msamd_name'], x=tmp['minority_population'], orientation='h')\n",
    "# ], \n",
    "# layout={'title':'Minority Applicants vs Minority Population','xaxis_title':'Minority Percentage', 'yaxis_title':'MSA/MD','title_x':0.5}\n",
    "# )\n",
    "# fig.update_layout(xaxis_tickangle = -45, height=600, width=1400, title_x=0.5)\n",
    "# fig.show()"
   ]
  },
  {
   "cell_type": "code",
   "execution_count": 33,
   "id": "785c31e9-454e-452a-847b-6935ccce0969",
   "metadata": {},
   "outputs": [],
   "source": [
    "# plt.figure(figsize=(15,5))\n",
    "# ax = sns.countplot(x=df['denial_reason_name_1'], order = df['denial_reason_name_1'].value_counts().index)\n",
    "\n",
    "# plt.title('Distribution of Denial Reason', size=15)\n",
    "# plt.xlabel('Denial Reasons', size=12)\n",
    "# plt.ylabel('Count', size=12)\n",
    "# ax.set(xticks=[0,1,2,3,4,5,6,7,8])\n",
    "# ax.set_xticklabels(ax.get_xticklabels(), rotation=45, horizontalalignment='right');"
   ]
  },
  {
   "cell_type": "code",
   "execution_count": 34,
   "id": "1dc73d2d-fbe9-422b-831c-1b0e0a72e61b",
   "metadata": {},
   "outputs": [],
   "source": [
    "# import plotly.graph_objects as go\n",
    "\n",
    "# race_to_remove = ['Information not Provided', 'Not applicable']\n",
    "# tmp = df[~df['applicant_race_name_1'].isin(race_to_remove)]\n",
    "\n",
    "# fig = go.Figure()\n",
    "\n",
    "# for race in tmp['applicant_race_name_1'].unique():\n",
    "#   fig.add_trace(go.Box(y=tmp[(tmp['applicant_race_name_1']==race) & (tmp.approve_bin==1)]['applicant_income_000s'], name =\"Approved \" +race, line=dict(color='blue')))\n",
    "#   fig.add_trace(go.Box(y=tmp[(tmp['applicant_race_name_1']==race) & (tmp.approve_bin==0)]['applicant_income_000s'], name=\"Denied \" +race, line=dict(color='palevioletred')))\n",
    "# fig.update_layout(height = 800, width= 1500)\n",
    "# fig.show()"
   ]
  },
  {
   "cell_type": "code",
   "execution_count": null,
   "id": "467cfeee-e876-4c17-8d5c-5b49c6bc7df2",
   "metadata": {},
   "outputs": [],
   "source": []
  }
 ],
 "metadata": {
  "kernelspec": {
   "display_name": "Python 3",
   "language": "python",
   "name": "python3"
  },
  "language_info": {
   "codemirror_mode": {
    "name": "ipython",
    "version": 3
   },
   "file_extension": ".py",
   "mimetype": "text/x-python",
   "name": "python",
   "nbconvert_exporter": "python",
   "pygments_lexer": "ipython3",
   "version": "3.8.8"
  }
 },
 "nbformat": 4,
 "nbformat_minor": 5
}
