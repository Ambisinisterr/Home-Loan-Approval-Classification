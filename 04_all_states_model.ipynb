{
 "cells": [
  {
   "cell_type": "markdown",
   "id": "53e3adb0",
   "metadata": {},
   "source": [
    "# All States\n",
    "----\n",
    "This contains the merged DataFrames of California, Texas, New York and Florida.\n",
    "\n",
    "Data is limited to:\n",
    " - Years 2014-2017\n",
    " - People over the 20<sup>th</sup> percentile and under the 90<sup>th</sup> percentile by state\n",
    " - People in the few major Metro Areas by state"
   ]
  },
  {
   "cell_type": "code",
   "execution_count": 1,
   "id": "5f6253e0",
   "metadata": {
    "tags": []
   },
   "outputs": [],
   "source": [
    "import json\n",
    "import math\n",
    "import numpy as np\n",
    "import pandas as pd\n",
    "import seaborn as sns\n",
    "import matplotlib.pyplot as plt\n",
    "from sklearn.pipeline import Pipeline\n",
    "from sklearn.decomposition import PCA\n",
    "from sklearn.impute import SimpleImputer\n",
    "from sklearn.compose import ColumnTransformer\n",
    "from sklearn.neighbors import KNeighborsClassifier\n",
    "from sklearn.linear_model import LogisticRegression\n",
    "from sklearn.ensemble import RandomForestClassifier\n",
    "from sklearn.preprocessing import OneHotEncoder, MinMaxScaler, StandardScaler\n",
    "from sklearn.model_selection import train_test_split, GridSearchCV, cross_val_score, KFold"
   ]
  },
  {
   "cell_type": "code",
   "execution_count": 2,
   "id": "4e7d7f31",
   "metadata": {
    "tags": []
   },
   "outputs": [],
   "source": [
    "def compress_dataframe(df, dictionary):\n",
    "    df = df.copy(deep=True)\n",
    "    \n",
    "    for col in dictionary.keys():\n",
    "        df[col] = df[col].map(dictionary[col])\n",
    "    return df"
   ]
  },
  {
   "cell_type": "code",
   "execution_count": 3,
   "id": "5787f5dc",
   "metadata": {
    "tags": []
   },
   "outputs": [],
   "source": [
    "def reduce_large_strings(df):\n",
    "    to_replace = [\"Information not provided by applicant in mail, Internet, or telephone application\",\n",
    "                  \"Native Hawaiian or Other Pacific Islander\",\n",
    "                  \"One-to-four family dwelling (other than manufactured housing)\"]\n",
    "    replace_with = [\"Information not Provided\",\n",
    "                    \"Native Hawaiian/Pacific Islander\",\n",
    "                    \"1-4 Family House\"]\n",
    "    for col in df.columns:\n",
    "        if df[col].dtype == object:\n",
    "            for i, _ in enumerate(to_replace):\n",
    "                df[col] = np.where(df[col] == to_replace[i], replace_with[i], df[col])            \n",
    "    return df"
   ]
  },
  {
   "cell_type": "code",
   "execution_count": 4,
   "id": "6a8c7fc8",
   "metadata": {
    "tags": []
   },
   "outputs": [],
   "source": [
    "# Code from Murmel on Stack Exchange\n",
    "# https://stackoverflow.com/questions/1450957/pythons-json-module-converts-int-dictionary-keys-to-strings\n",
    "def jsonKeys2int(x):\n",
    "    if isinstance(x, dict):\n",
    "        try:\n",
    "            return {int(k):v for k,v in x.items()}\n",
    "        except:\n",
    "            pass #bad form\n",
    "    return x"
   ]
  },
  {
   "cell_type": "markdown",
   "id": "4ae210f6",
   "metadata": {},
   "source": [
    "### Read In Merged DF and Decompression Dictionary\n",
    "----\n",
    "In order to reduce file size all categorical cells were converted into numbers and additionally compressed into a GZip file.\n",
    "\n",
    "The next three cells\n",
    "\n",
    "1. Reads in the numerical Dataframe\n",
    "2. Reads the JSON file which contains the key:value pairs to decode the DataFrame\n",
    "3. Executes a function that uses the JSON file to decompress/decode the numerical DataFrame."
   ]
  },
  {
   "cell_type": "code",
   "execution_count": 6,
   "id": "cc800f8b",
   "metadata": {
    "tags": []
   },
   "outputs": [],
   "source": [
    "df=pd.read_csv('./merged_df/merged_df.csv.gz', low_memory=False)"
   ]
  },
  {
   "cell_type": "code",
   "execution_count": 7,
   "id": "78827829",
   "metadata": {},
   "outputs": [],
   "source": [
    "df.to_csv(\"./merged_df/merged_df.csv\", index=False)"
   ]
  },
  {
   "cell_type": "code",
   "execution_count": 8,
   "id": "1236e8b8",
   "metadata": {},
   "outputs": [],
   "source": [
    "with open(\"./json_files/decompression_dictionary.json\", \"r\") as json_file:\n",
    "    decompression_dictionary = json.load(json_file, object_hook=jsonKeys2int)"
   ]
  },
  {
   "cell_type": "code",
   "execution_count": 9,
   "id": "d5f0e054",
   "metadata": {},
   "outputs": [],
   "source": [
    "df = compress_dataframe(df, decompression_dictionary)"
   ]
  },
  {
   "cell_type": "markdown",
   "id": "74f4b364",
   "metadata": {},
   "source": [
    "### Quick Clean"
   ]
  },
  {
   "cell_type": "code",
   "execution_count": 10,
   "id": "b33d82fb",
   "metadata": {},
   "outputs": [],
   "source": [
    "df = reduce_large_strings(df)"
   ]
  },
  {
   "cell_type": "code",
   "execution_count": 11,
   "id": "6c0879fe",
   "metadata": {},
   "outputs": [],
   "source": [
    "#cast numerical features back to correct values\n",
    "numerical_features = ['as_of_year', 'agency_code', 'loan_type', 'loan_purpose',\n",
    "                      'owner_occupancy', 'loan_amount_000s', 'preapproval',\n",
    "                      'action_taken', 'msamd', 'census_tract_number', 'applicant_ethnicity',\n",
    "                      'co_applicant_ethnicity', 'applicant_race_1', 'co_applicant_race_1',\n",
    "                      'applicant_income_000s', 'purchaser_type', 'denial_reason_1',\n",
    "                      'denial_reason_2', 'denial_reason_3', 'hoepa_status', 'lien_status',\n",
    "                      'population', 'minority_population', 'hud_median_family_income',\n",
    "                      'tract_to_msamd_income', 'number_of_owner_occupied_units',\n",
    "                      'number_of_1_to_4_family_units', 'latino', 'approve_bin']\n",
    "dtypes = [int, int, int, int, int, float, int, int, float, float, int, int, int,int,\n",
    "          float, int, float, float, float, int, int, float, float, float, float, float,\n",
    "          float, int, int]\n",
    "for col, dtype in zip(numerical_features, dtypes):\n",
    "    df[col] = df[col].astype(dtype)"
   ]
  },
  {
   "cell_type": "code",
   "execution_count": 14,
   "id": "9d827761",
   "metadata": {
    "tags": []
   },
   "outputs": [
    {
     "data": {
      "text/plain": [
       "denial_reason_3                   4698559\n",
       "denial_reason_name_3              4698559\n",
       "denial_reason_name_2              4617303\n",
       "denial_reason_2                   4617303\n",
       "denial_reason_name_1              4245896\n",
       "denial_reason_1                   4245896\n",
       "number_of_1_to_4_family_units        2138\n",
       "number_of_owner_occupied_units       1351\n",
       "tract_to_msamd_income                 850\n",
       "minority_population                   159\n",
       "population                            152\n",
       "hud_median_family_income               56\n",
       "census_tract_number                    56\n",
       "applicant_income_000s                   0\n",
       "purchaser_type_name                     0\n",
       "dtype: int64"
      ]
     },
     "execution_count": 14,
     "metadata": {},
     "output_type": "execute_result"
    }
   ],
   "source": [
    "df.isnull().sum().sort_values(ascending=False).head(15)"
   ]
  },
  {
   "cell_type": "code",
   "execution_count": 15,
   "id": "3829bfbe",
   "metadata": {},
   "outputs": [
    {
     "data": {
      "text/plain": [
       "(4715850, 52)"
      ]
     },
     "execution_count": 15,
     "metadata": {},
     "output_type": "execute_result"
    }
   ],
   "source": [
    "df.shape"
   ]
  },
  {
   "cell_type": "code",
   "execution_count": 16,
   "id": "bc4a9ec3",
   "metadata": {},
   "outputs": [],
   "source": [
    "df.dropna(axis=0,subset=['number_of_1_to_4_family_units','number_of_owner_occupied_units',\\\n",
    "                         'tract_to_msamd_income','minority_population','population',\\\n",
    "                         'hud_median_family_income','census_tract_number'], inplace=True)"
   ]
  },
  {
   "cell_type": "markdown",
   "id": "61ab7d04",
   "metadata": {},
   "source": [
    "Dropping the NAN entries that are not the denial reasons, as they make up only a small fraction of the dataset"
   ]
  },
  {
   "cell_type": "code",
   "execution_count": 17,
   "id": "9ae8833c",
   "metadata": {},
   "outputs": [
    {
     "data": {
      "text/plain": [
       "(4712341, 52)"
      ]
     },
     "execution_count": 17,
     "metadata": {},
     "output_type": "execute_result"
    }
   ],
   "source": [
    "df.shape"
   ]
  },
  {
   "cell_type": "markdown",
   "id": "c579dd86",
   "metadata": {},
   "source": [
    "| Race Name | Race Number  |\n",
    "| --------- | ------------ |\n",
    "| American Indian or Alaska Native | 1 |\n",
    "| Asian | 2 |\n",
    "| Black or African American | 3 |\n",
    "| Native Hawaiian or Other Pacific Islander | 4 |\n",
    "| White | 5 |\n",
    "| Information not provided by applicant | 6 |\n",
    "| N/A | 7 |\n",
    "| No co-applicant | 8 |"
   ]
  },
  {
   "cell_type": "markdown",
   "id": "606f2515-b088-4255-a59b-a1492f69715d",
   "metadata": {},
   "source": [
    "#### in this model we are looking at home purchases"
   ]
  },
  {
   "cell_type": "code",
   "execution_count": 26,
   "id": "01813037-e8ee-4b20-b623-66457e1daf9b",
   "metadata": {},
   "outputs": [],
   "source": [
    "df = df[df[\"loan_purpose_name\"] == \"Home purchase\"].copy(deep=True)"
   ]
  },
  {
   "cell_type": "markdown",
   "id": "93b5b645-a907-49aa-ba11-5c10da0d2b2d",
   "metadata": {},
   "source": [
    "#### the not applicable sex name for applicant had almost 100% loan rate so this was deemed to be not good for the model"
   ]
  },
  {
   "cell_type": "code",
   "execution_count": 27,
   "id": "d2e33002-af72-4499-9b7d-8a3af2eeafac",
   "metadata": {},
   "outputs": [],
   "source": [
    "df=df[~(df['applicant_sex_name']=='Not applicable')].copy(deep=True)"
   ]
  },
  {
   "cell_type": "code",
   "execution_count": 28,
   "id": "cd9ff2e3-0d16-4d74-831f-ad97547a240a",
   "metadata": {},
   "outputs": [],
   "source": [
    "### initial test run for new york - uncomment if you want smaller sample (NY Metro)\n",
    "### df = df[(df[\"as_of_year\"] == 2017) & (df[\"state_name\"] == \"New York\")]"
   ]
  },
  {
   "cell_type": "code",
   "execution_count": 29,
   "id": "9233e77c-2b6e-4cbf-a995-413509901453",
   "metadata": {},
   "outputs": [
    {
     "data": {
      "text/plain": [
       "(2257187, 52)"
      ]
     },
     "execution_count": 29,
     "metadata": {},
     "output_type": "execute_result"
    }
   ],
   "source": [
    "df.shape"
   ]
  },
  {
   "cell_type": "code",
   "execution_count": 30,
   "id": "a4bd5441",
   "metadata": {},
   "outputs": [
    {
     "data": {
      "text/plain": [
       "as_of_year                              0\n",
       "respondent_id                           0\n",
       "agency_name                             0\n",
       "agency_abbr                             0\n",
       "agency_code                             0\n",
       "loan_type_name                          0\n",
       "loan_type                               0\n",
       "loan_purpose_name                       0\n",
       "loan_purpose                            0\n",
       "owner_occupancy_name                    0\n",
       "owner_occupancy                         0\n",
       "loan_amount_000s                        0\n",
       "preapproval_name                        0\n",
       "preapproval                             0\n",
       "action_taken_name                       0\n",
       "action_taken                            0\n",
       "msamd_name                              0\n",
       "msamd                                   0\n",
       "state_name                              0\n",
       "county_name                             0\n",
       "census_tract_number                     0\n",
       "applicant_ethnicity_name                0\n",
       "applicant_ethnicity                     0\n",
       "co_applicant_ethnicity_name             0\n",
       "co_applicant_ethnicity                  0\n",
       "applicant_race_name_1                   0\n",
       "applicant_race_1                        0\n",
       "co_applicant_race_name_1                0\n",
       "co_applicant_race_1                     0\n",
       "applicant_sex_name                      0\n",
       "co_applicant_sex_name                   0\n",
       "applicant_income_000s                   0\n",
       "purchaser_type_name                     0\n",
       "purchaser_type                          0\n",
       "denial_reason_name_1              2107836\n",
       "denial_reason_1                   2107836\n",
       "denial_reason_name_2              2225963\n",
       "denial_reason_2                   2225963\n",
       "denial_reason_name_3              2250563\n",
       "denial_reason_3                   2250563\n",
       "hoepa_status_name                       0\n",
       "hoepa_status                            0\n",
       "lien_status_name                        0\n",
       "lien_status                             0\n",
       "population                              0\n",
       "minority_population                     0\n",
       "hud_median_family_income                0\n",
       "tract_to_msamd_income                   0\n",
       "number_of_owner_occupied_units          0\n",
       "number_of_1_to_4_family_units           0\n",
       "latino                                  0\n",
       "approve_bin                             0\n",
       "dtype: int64"
      ]
     },
     "execution_count": 30,
     "metadata": {},
     "output_type": "execute_result"
    }
   ],
   "source": [
    "df.isna().sum()"
   ]
  },
  {
   "cell_type": "code",
   "execution_count": 31,
   "id": "57de3d5f",
   "metadata": {},
   "outputs": [],
   "source": [
    "#### a copy of the dataset just in case\n",
    "df_copy = df.copy()"
   ]
  },
  {
   "cell_type": "code",
   "execution_count": 32,
   "id": "4cfef763",
   "metadata": {},
   "outputs": [],
   "source": [
    "#### hard coded drops of columns we don't need for sure\n",
    "df.drop(columns = ['respondent_id',\n",
    "                   'denial_reason_name_1','denial_reason_name_2','denial_reason_name_3',\n",
    "                   'denial_reason_1','denial_reason_2','denial_reason_3','action_taken_name','action_taken',\n",
    "                  'purchaser_type_name','lien_status_name','county_name','agency_abbr',\n",
    "                  'agency_code','msamd','owner_occupancy','loan_purpose_name','lien_status','purchaser_type','hoepa_status_name'],\n",
    "        inplace = True)"
   ]
  },
  {
   "cell_type": "code",
   "execution_count": 33,
   "id": "aae77f12",
   "metadata": {},
   "outputs": [],
   "source": [
    "#### grab the columns that have \"name\" in the ... name and then drop those if there is a numerical analog\n",
    "name_analog = [x.replace(\"_name\",\"\") for x in df.columns if x.find(\"name\") > 0]\n",
    "name_analog_clean = [x for x in name_analog if x in df.columns]"
   ]
  },
  {
   "cell_type": "code",
   "execution_count": 34,
   "id": "83df2a0d",
   "metadata": {},
   "outputs": [],
   "source": [
    "df.drop(name_analog_clean, axis=1, inplace=True)"
   ]
  },
  {
   "cell_type": "code",
   "execution_count": 35,
   "id": "18520e58-1368-464e-8da0-74aa9748ca17",
   "metadata": {},
   "outputs": [
    {
     "data": {
      "text/plain": [
       "Index(['as_of_year', 'agency_name', 'loan_type_name', 'loan_purpose',\n",
       "       'owner_occupancy_name', 'loan_amount_000s', 'preapproval_name',\n",
       "       'msamd_name', 'state_name', 'census_tract_number',\n",
       "       'applicant_ethnicity_name', 'co_applicant_ethnicity_name',\n",
       "       'applicant_race_name_1', 'co_applicant_race_name_1',\n",
       "       'applicant_sex_name', 'co_applicant_sex_name', 'applicant_income_000s',\n",
       "       'hoepa_status', 'population', 'minority_population',\n",
       "       'hud_median_family_income', 'tract_to_msamd_income',\n",
       "       'number_of_owner_occupied_units', 'number_of_1_to_4_family_units',\n",
       "       'latino', 'approve_bin'],\n",
       "      dtype='object')"
      ]
     },
     "execution_count": 35,
     "metadata": {},
     "output_type": "execute_result"
    }
   ],
   "source": [
    "df.columns"
   ]
  },
  {
   "cell_type": "code",
   "execution_count": 36,
   "id": "2094371a-78e8-46c9-8298-4f09facf2e94",
   "metadata": {},
   "outputs": [],
   "source": [
    "#purchaser type -> leakage -> since it implies a loan was originated\n",
    "#df.groupby('purchaser_type').approve_bin.mean()"
   ]
  },
  {
   "cell_type": "markdown",
   "id": "690400f4-058d-43cd-9f2a-cdc63ec0df53",
   "metadata": {},
   "source": [
    "Purchaser_type_name and lien_status_name are features that leak into our target variable so we needed to drop them from our model"
   ]
  },
  {
   "cell_type": "code",
   "execution_count": 37,
   "id": "4bddaef1-bdca-4166-b40f-59b89b7580bc",
   "metadata": {},
   "outputs": [
    {
     "name": "stdout",
     "output_type": "stream",
     "text": [
      "Baseline mean approval of 77.54 %\n"
     ]
    }
   ],
   "source": [
    "print('Baseline mean approval of', round((df['approve_bin'].mean())*100,2),'%')"
   ]
  },
  {
   "cell_type": "code",
   "execution_count": 84,
   "id": "2660b820",
   "metadata": {},
   "outputs": [],
   "source": [
    "X_train, X_test, y_train, y_test = train_test_split(df.drop(columns = 'approve_bin', axis=1), \n",
    "                                                    df.approve_bin, test_size=0.75, random_state=42)"
   ]
  },
  {
   "cell_type": "code",
   "execution_count": 85,
   "id": "ef9af5f7",
   "metadata": {},
   "outputs": [
    {
     "name": "stdout",
     "output_type": "stream",
     "text": [
      "There are 13 numerical features: \n",
      "\n",
      "['as_of_year', 'loan_purpose', 'loan_amount_000s', 'census_tract_number', 'applicant_income_000s', 'hoepa_status', 'population', 'minority_population', 'hud_median_family_income', 'tract_to_msamd_income', 'number_of_owner_occupied_units', 'number_of_1_to_4_family_units', 'latino']\n"
     ]
    }
   ],
   "source": [
    "numerical_features = X_train.select_dtypes(include='number').columns.tolist()\n",
    "print(f'There are {len(numerical_features)} numerical features:', '\\n')\n",
    "print(numerical_features)"
   ]
  },
  {
   "cell_type": "code",
   "execution_count": 86,
   "id": "7c15b85f",
   "metadata": {},
   "outputs": [
    {
     "name": "stdout",
     "output_type": "stream",
     "text": [
      "There are 12 categorical features: \n",
      "\n",
      "['agency_name', 'loan_type_name', 'owner_occupancy_name', 'preapproval_name', 'msamd_name', 'state_name', 'applicant_ethnicity_name', 'co_applicant_ethnicity_name', 'applicant_race_name_1', 'co_applicant_race_name_1', 'applicant_sex_name', 'co_applicant_sex_name']\n"
     ]
    }
   ],
   "source": [
    "categorical_features = X_train.select_dtypes(exclude='number').columns.tolist()\n",
    "print(f'There are {len(categorical_features)} categorical features:', '\\n')\n",
    "print(categorical_features)"
   ]
  },
  {
   "cell_type": "code",
   "execution_count": 87,
   "id": "27d9b079",
   "metadata": {},
   "outputs": [],
   "source": [
    "numeric_pipeline = Pipeline(steps=[\n",
    "    ('impute', SimpleImputer(strategy='mean')),\n",
    "    ('scale', StandardScaler())\n",
    "])\n",
    "\n",
    "categorical_pipeline = Pipeline(steps=[\n",
    "    ('impute', SimpleImputer(strategy='most_frequent')),\n",
    "    ('one-hot', OneHotEncoder(handle_unknown='ignore', sparse=False))\n",
    "])"
   ]
  },
  {
   "cell_type": "code",
   "execution_count": 88,
   "id": "a01ed703",
   "metadata": {},
   "outputs": [],
   "source": [
    "full_processor = ColumnTransformer(transformers=[\n",
    "    ('number', numeric_pipeline, numerical_features),\n",
    "    ('category', categorical_pipeline, categorical_features)\n",
    "])\n"
   ]
  },
  {
   "cell_type": "markdown",
   "id": "7005e12d",
   "metadata": {},
   "source": [
    "#### Logistic : First Pass"
   ]
  },
  {
   "cell_type": "code",
   "execution_count": 46,
   "id": "85412f7d",
   "metadata": {},
   "outputs": [
    {
     "name": "stdout",
     "output_type": "stream",
     "text": [
      "tuned hpyerparameters :(best parameters)  {'clf__C': 0.5, 'clf__max_iter': 1000, 'clf__penalty': 'l2', 'clf__solver': 'sag'}\n",
      "accuracy : 0.7756354822652106\n"
     ]
    },
    {
     "name": "stderr",
     "output_type": "stream",
     "text": [
      "C:\\Users\\silve\\anacondaGA\\lib\\site-packages\\sklearn\\linear_model\\_sag.py:328: ConvergenceWarning: The max_iter was reached which means the coef_ did not converge\n",
      "  warnings.warn(\"The max_iter was reached which means \"\n"
     ]
    }
   ],
   "source": [
    "logreg = LogisticRegression(random_state=42)\n",
    "\n",
    "logreg_pipeline = Pipeline(steps=[\n",
    "    ('preprocess', full_processor),\n",
    "    ('clf', logreg)\n",
    "])\n",
    "\n",
    "logreg_grid = [{'clf__penalty': ['l2'],\n",
    "                'clf__C': [1.0,0.5,0.1],\n",
    "                'clf__solver': ['sag'],\n",
    "                'clf__max_iter': [1000]\n",
    "               }] \n",
    "\n",
    "logreg_cv = GridSearchCV(logreg_pipeline, logreg_grid, \n",
    "                      cv=10, \n",
    "                      scoring='accuracy',\n",
    "                        n_jobs=-1)\n",
    "\n",
    "logreg_cv.fit(X_train,y_train)\n",
    "\n",
    "print(\"tuned hpyerparameters :(best parameters) \",logreg_cv.best_params_)\n",
    "print(\"accuracy :\",logreg_cv.best_score_)"
   ]
  },
  {
   "cell_type": "code",
   "execution_count": 47,
   "id": "e53aa318",
   "metadata": {},
   "outputs": [],
   "source": [
    "coeff_val = logreg_cv.best_estimator_.named_steps.clf.coef_\n"
   ]
  },
  {
   "cell_type": "code",
   "execution_count": 48,
   "id": "33b30803",
   "metadata": {},
   "outputs": [],
   "source": [
    "best_cat = logreg_cv.best_estimator_.named_steps['preprocess'].transformers_[1][1].named_steps['one-hot'].get_feature_names(categorical_features)"
   ]
  },
  {
   "cell_type": "code",
   "execution_count": 49,
   "id": "e47a39c9-fc01-4a0a-a56e-0b6891057822",
   "metadata": {},
   "outputs": [],
   "source": [
    "coeff = numerical_features"
   ]
  },
  {
   "cell_type": "code",
   "execution_count": 50,
   "id": "a4920250-2bbb-4c30-a608-42e66b4c9021",
   "metadata": {},
   "outputs": [],
   "source": [
    "coeff.extend(best_cat)"
   ]
  },
  {
   "cell_type": "code",
   "execution_count": 51,
   "id": "4da7c090-a19c-421c-889d-e414f0b92002",
   "metadata": {},
   "outputs": [],
   "source": [
    "coeff_zip = zip(coeff,coeff_val[0])"
   ]
  },
  {
   "cell_type": "code",
   "execution_count": 52,
   "id": "cf487f32-ae91-4bcb-bd00-84de9a460f96",
   "metadata": {},
   "outputs": [],
   "source": [
    "c_l = list(coeff_zip)"
   ]
  },
  {
   "cell_type": "code",
   "execution_count": 53,
   "id": "63bc3044-813e-43f5-b4b8-dab335bed876",
   "metadata": {},
   "outputs": [],
   "source": [
    "df_fin =  pd.DataFrame(c_l,columns = ['Coefficient', 'Value'])"
   ]
  },
  {
   "cell_type": "code",
   "execution_count": 54,
   "id": "c6e11108-100e-498d-b491-87974c2f8620",
   "metadata": {},
   "outputs": [],
   "source": [
    "df_fin['abs_Val'] = df_fin['Value'].map(lambda x : abs(x))"
   ]
  },
  {
   "cell_type": "code",
   "execution_count": 55,
   "id": "f2566fa6-1095-4038-9f88-2b37ff7a3282",
   "metadata": {},
   "outputs": [
    {
     "data": {
      "text/html": [
       "<div>\n",
       "<style scoped>\n",
       "    .dataframe tbody tr th:only-of-type {\n",
       "        vertical-align: middle;\n",
       "    }\n",
       "\n",
       "    .dataframe tbody tr th {\n",
       "        vertical-align: top;\n",
       "    }\n",
       "\n",
       "    .dataframe thead th {\n",
       "        text-align: right;\n",
       "    }\n",
       "</style>\n",
       "<table border=\"1\" class=\"dataframe\">\n",
       "  <thead>\n",
       "    <tr style=\"text-align: right;\">\n",
       "      <th></th>\n",
       "      <th>Coefficient</th>\n",
       "      <th>Value</th>\n",
       "      <th>abs_Val</th>\n",
       "    </tr>\n",
       "  </thead>\n",
       "  <tbody>\n",
       "    <tr>\n",
       "      <th>35</th>\n",
       "      <td>msamd_name_Nassau County, Suffolk County - NY</td>\n",
       "      <td>0.671963</td>\n",
       "      <td>0.671963</td>\n",
       "    </tr>\n",
       "    <tr>\n",
       "      <th>16</th>\n",
       "      <td>agency_name_Federal Reserve System</td>\n",
       "      <td>0.591762</td>\n",
       "      <td>0.591762</td>\n",
       "    </tr>\n",
       "    <tr>\n",
       "      <th>37</th>\n",
       "      <td>msamd_name_Oakland, Hayward, Berkeley - CA</td>\n",
       "      <td>0.569985</td>\n",
       "      <td>0.569985</td>\n",
       "    </tr>\n",
       "    <tr>\n",
       "      <th>42</th>\n",
       "      <td>state_name_Florida</td>\n",
       "      <td>-0.390041</td>\n",
       "      <td>0.390041</td>\n",
       "    </tr>\n",
       "    <tr>\n",
       "      <th>36</th>\n",
       "      <td>msamd_name_New York, Jersey City, White Plains...</td>\n",
       "      <td>-0.387501</td>\n",
       "      <td>0.387501</td>\n",
       "    </tr>\n",
       "    <tr>\n",
       "      <th>17</th>\n",
       "      <td>agency_name_National Credit Union Administration</td>\n",
       "      <td>-0.370783</td>\n",
       "      <td>0.370783</td>\n",
       "    </tr>\n",
       "    <tr>\n",
       "      <th>47</th>\n",
       "      <td>applicant_ethnicity_name_Not Hispanic or Latino</td>\n",
       "      <td>0.332194</td>\n",
       "      <td>0.332194</td>\n",
       "    </tr>\n",
       "    <tr>\n",
       "      <th>34</th>\n",
       "      <td>msamd_name_Miami, Miami Beach, Kendall - FL</td>\n",
       "      <td>-0.328223</td>\n",
       "      <td>0.328223</td>\n",
       "    </tr>\n",
       "    <tr>\n",
       "      <th>41</th>\n",
       "      <td>state_name_California</td>\n",
       "      <td>0.327349</td>\n",
       "      <td>0.327349</td>\n",
       "    </tr>\n",
       "    <tr>\n",
       "      <th>48</th>\n",
       "      <td>applicant_ethnicity_name_Not applicable</td>\n",
       "      <td>-0.301469</td>\n",
       "      <td>0.301469</td>\n",
       "    </tr>\n",
       "    <tr>\n",
       "      <th>43</th>\n",
       "      <td>state_name_New York</td>\n",
       "      <td>0.284462</td>\n",
       "      <td>0.284462</td>\n",
       "    </tr>\n",
       "    <tr>\n",
       "      <th>8</th>\n",
       "      <td>hud_median_family_income</td>\n",
       "      <td>-0.277893</td>\n",
       "      <td>0.277893</td>\n",
       "    </tr>\n",
       "    <tr>\n",
       "      <th>33</th>\n",
       "      <td>msamd_name_Los Angeles, Long Beach, Glendale - CA</td>\n",
       "      <td>-0.272566</td>\n",
       "      <td>0.272566</td>\n",
       "    </tr>\n",
       "    <tr>\n",
       "      <th>60</th>\n",
       "      <td>applicant_race_name_1_White</td>\n",
       "      <td>0.220120</td>\n",
       "      <td>0.220120</td>\n",
       "    </tr>\n",
       "    <tr>\n",
       "      <th>76</th>\n",
       "      <td>co_applicant_sex_name_Not applicable</td>\n",
       "      <td>0.218758</td>\n",
       "      <td>0.218758</td>\n",
       "    </tr>\n",
       "    <tr>\n",
       "      <th>25</th>\n",
       "      <td>owner_occupancy_name_Owner-occupied as a princ...</td>\n",
       "      <td>0.195145</td>\n",
       "      <td>0.195145</td>\n",
       "    </tr>\n",
       "    <tr>\n",
       "      <th>28</th>\n",
       "      <td>preapproval_name_Preapproval was requested</td>\n",
       "      <td>0.185004</td>\n",
       "      <td>0.185004</td>\n",
       "    </tr>\n",
       "    <tr>\n",
       "      <th>21</th>\n",
       "      <td>loan_type_name_FSA/RHS-guaranteed</td>\n",
       "      <td>-0.169511</td>\n",
       "      <td>0.169511</td>\n",
       "    </tr>\n",
       "    <tr>\n",
       "      <th>67</th>\n",
       "      <td>co_applicant_race_name_1_Not applicable</td>\n",
       "      <td>0.163297</td>\n",
       "      <td>0.163297</td>\n",
       "    </tr>\n",
       "    <tr>\n",
       "      <th>22</th>\n",
       "      <td>loan_type_name_VA-guaranteed</td>\n",
       "      <td>0.157820</td>\n",
       "      <td>0.157820</td>\n",
       "    </tr>\n",
       "    <tr>\n",
       "      <th>46</th>\n",
       "      <td>applicant_ethnicity_name_Information not Provided</td>\n",
       "      <td>0.157293</td>\n",
       "      <td>0.157293</td>\n",
       "    </tr>\n",
       "    <tr>\n",
       "      <th>29</th>\n",
       "      <td>msamd_name_Austin, Round Rock - TX</td>\n",
       "      <td>0.151273</td>\n",
       "      <td>0.151273</td>\n",
       "    </tr>\n",
       "    <tr>\n",
       "      <th>20</th>\n",
       "      <td>loan_type_name_FHA-insured</td>\n",
       "      <td>0.149330</td>\n",
       "      <td>0.149330</td>\n",
       "    </tr>\n",
       "    <tr>\n",
       "      <th>69</th>\n",
       "      <td>applicant_sex_name_Female</td>\n",
       "      <td>0.148272</td>\n",
       "      <td>0.148272</td>\n",
       "    </tr>\n",
       "    <tr>\n",
       "      <th>56</th>\n",
       "      <td>applicant_race_name_1_Black or African American</td>\n",
       "      <td>-0.122860</td>\n",
       "      <td>0.122860</td>\n",
       "    </tr>\n",
       "    <tr>\n",
       "      <th>50</th>\n",
       "      <td>co_applicant_ethnicity_name_Information not Pr...</td>\n",
       "      <td>0.119439</td>\n",
       "      <td>0.119439</td>\n",
       "    </tr>\n",
       "    <tr>\n",
       "      <th>31</th>\n",
       "      <td>msamd_name_Houston, The Woodlands, Sugar Land ...</td>\n",
       "      <td>-0.118530</td>\n",
       "      <td>0.118530</td>\n",
       "    </tr>\n",
       "    <tr>\n",
       "      <th>68</th>\n",
       "      <td>co_applicant_race_name_1_White</td>\n",
       "      <td>0.117795</td>\n",
       "      <td>0.117795</td>\n",
       "    </tr>\n",
       "    <tr>\n",
       "      <th>61</th>\n",
       "      <td>co_applicant_race_name_1_American Indian or Al...</td>\n",
       "      <td>-0.113115</td>\n",
       "      <td>0.113115</td>\n",
       "    </tr>\n",
       "    <tr>\n",
       "      <th>52</th>\n",
       "      <td>co_applicant_ethnicity_name_Not Hispanic or La...</td>\n",
       "      <td>0.111896</td>\n",
       "      <td>0.111896</td>\n",
       "    </tr>\n",
       "    <tr>\n",
       "      <th>19</th>\n",
       "      <td>loan_type_name_Conventional</td>\n",
       "      <td>0.111124</td>\n",
       "      <td>0.111124</td>\n",
       "    </tr>\n",
       "    <tr>\n",
       "      <th>55</th>\n",
       "      <td>applicant_race_name_1_Asian</td>\n",
       "      <td>0.098360</td>\n",
       "      <td>0.098360</td>\n",
       "    </tr>\n",
       "    <tr>\n",
       "      <th>23</th>\n",
       "      <td>owner_occupancy_name_Not applicable</td>\n",
       "      <td>0.097796</td>\n",
       "      <td>0.097796</td>\n",
       "    </tr>\n",
       "    <tr>\n",
       "      <th>71</th>\n",
       "      <td>applicant_sex_name_Male</td>\n",
       "      <td>0.096305</td>\n",
       "      <td>0.096305</td>\n",
       "    </tr>\n",
       "    <tr>\n",
       "      <th>14</th>\n",
       "      <td>agency_name_Department of Housing and Urban De...</td>\n",
       "      <td>-0.095084</td>\n",
       "      <td>0.095084</td>\n",
       "    </tr>\n",
       "    <tr>\n",
       "      <th>59</th>\n",
       "      <td>applicant_race_name_1_Not applicable</td>\n",
       "      <td>0.088897</td>\n",
       "      <td>0.088897</td>\n",
       "    </tr>\n",
       "    <tr>\n",
       "      <th>10</th>\n",
       "      <td>number_of_owner_occupied_units</td>\n",
       "      <td>0.088746</td>\n",
       "      <td>0.088746</td>\n",
       "    </tr>\n",
       "    <tr>\n",
       "      <th>2</th>\n",
       "      <td>loan_amount_000s</td>\n",
       "      <td>-0.085417</td>\n",
       "      <td>0.085417</td>\n",
       "    </tr>\n",
       "    <tr>\n",
       "      <th>65</th>\n",
       "      <td>co_applicant_race_name_1_Native Hawaiian/Pacif...</td>\n",
       "      <td>-0.084090</td>\n",
       "      <td>0.084090</td>\n",
       "    </tr>\n",
       "    <tr>\n",
       "      <th>74</th>\n",
       "      <td>co_applicant_sex_name_Male</td>\n",
       "      <td>-0.082533</td>\n",
       "      <td>0.082533</td>\n",
       "    </tr>\n",
       "    <tr>\n",
       "      <th>58</th>\n",
       "      <td>applicant_race_name_1_Native Hawaiian/Pacific ...</td>\n",
       "      <td>0.082402</td>\n",
       "      <td>0.082402</td>\n",
       "    </tr>\n",
       "    <tr>\n",
       "      <th>54</th>\n",
       "      <td>applicant_race_name_1_American Indian or Alask...</td>\n",
       "      <td>-0.082056</td>\n",
       "      <td>0.082056</td>\n",
       "    </tr>\n",
       "    <tr>\n",
       "      <th>15</th>\n",
       "      <td>agency_name_Federal Deposit Insurance Corporation</td>\n",
       "      <td>0.076012</td>\n",
       "      <td>0.076012</td>\n",
       "    </tr>\n",
       "    <tr>\n",
       "      <th>5</th>\n",
       "      <td>hoepa_status</td>\n",
       "      <td>-0.073766</td>\n",
       "      <td>0.073766</td>\n",
       "    </tr>\n",
       "    <tr>\n",
       "      <th>64</th>\n",
       "      <td>co_applicant_race_name_1_Information not Provided</td>\n",
       "      <td>0.071351</td>\n",
       "      <td>0.071351</td>\n",
       "    </tr>\n",
       "    <tr>\n",
       "      <th>26</th>\n",
       "      <td>preapproval_name_Not applicable</td>\n",
       "      <td>0.069221</td>\n",
       "      <td>0.069221</td>\n",
       "    </tr>\n",
       "    <tr>\n",
       "      <th>72</th>\n",
       "      <td>co_applicant_sex_name_Female</td>\n",
       "      <td>0.064287</td>\n",
       "      <td>0.064287</td>\n",
       "    </tr>\n",
       "    <tr>\n",
       "      <th>45</th>\n",
       "      <td>applicant_ethnicity_name_Hispanic or Latino</td>\n",
       "      <td>0.060745</td>\n",
       "      <td>0.060745</td>\n",
       "    </tr>\n",
       "    <tr>\n",
       "      <th>4</th>\n",
       "      <td>applicant_income_000s</td>\n",
       "      <td>0.055869</td>\n",
       "      <td>0.055869</td>\n",
       "    </tr>\n",
       "    <tr>\n",
       "      <th>38</th>\n",
       "      <td>msamd_name_Orlando, Kissimmee, Sanford - FL</td>\n",
       "      <td>-0.055192</td>\n",
       "      <td>0.055192</td>\n",
       "    </tr>\n",
       "  </tbody>\n",
       "</table>\n",
       "</div>"
      ],
      "text/plain": [
       "                                          Coefficient     Value   abs_Val\n",
       "35      msamd_name_Nassau County, Suffolk County - NY  0.671963  0.671963\n",
       "16                 agency_name_Federal Reserve System  0.591762  0.591762\n",
       "37         msamd_name_Oakland, Hayward, Berkeley - CA  0.569985  0.569985\n",
       "42                                 state_name_Florida -0.390041  0.390041\n",
       "36  msamd_name_New York, Jersey City, White Plains... -0.387501  0.387501\n",
       "17   agency_name_National Credit Union Administration -0.370783  0.370783\n",
       "47    applicant_ethnicity_name_Not Hispanic or Latino  0.332194  0.332194\n",
       "34        msamd_name_Miami, Miami Beach, Kendall - FL -0.328223  0.328223\n",
       "41                              state_name_California  0.327349  0.327349\n",
       "48            applicant_ethnicity_name_Not applicable -0.301469  0.301469\n",
       "43                                state_name_New York  0.284462  0.284462\n",
       "8                            hud_median_family_income -0.277893  0.277893\n",
       "33  msamd_name_Los Angeles, Long Beach, Glendale - CA -0.272566  0.272566\n",
       "60                        applicant_race_name_1_White  0.220120  0.220120\n",
       "76               co_applicant_sex_name_Not applicable  0.218758  0.218758\n",
       "25  owner_occupancy_name_Owner-occupied as a princ...  0.195145  0.195145\n",
       "28         preapproval_name_Preapproval was requested  0.185004  0.185004\n",
       "21                  loan_type_name_FSA/RHS-guaranteed -0.169511  0.169511\n",
       "67            co_applicant_race_name_1_Not applicable  0.163297  0.163297\n",
       "22                       loan_type_name_VA-guaranteed  0.157820  0.157820\n",
       "46  applicant_ethnicity_name_Information not Provided  0.157293  0.157293\n",
       "29                 msamd_name_Austin, Round Rock - TX  0.151273  0.151273\n",
       "20                         loan_type_name_FHA-insured  0.149330  0.149330\n",
       "69                          applicant_sex_name_Female  0.148272  0.148272\n",
       "56    applicant_race_name_1_Black or African American -0.122860  0.122860\n",
       "50  co_applicant_ethnicity_name_Information not Pr...  0.119439  0.119439\n",
       "31  msamd_name_Houston, The Woodlands, Sugar Land ... -0.118530  0.118530\n",
       "68                     co_applicant_race_name_1_White  0.117795  0.117795\n",
       "61  co_applicant_race_name_1_American Indian or Al... -0.113115  0.113115\n",
       "52  co_applicant_ethnicity_name_Not Hispanic or La...  0.111896  0.111896\n",
       "19                        loan_type_name_Conventional  0.111124  0.111124\n",
       "55                        applicant_race_name_1_Asian  0.098360  0.098360\n",
       "23                owner_occupancy_name_Not applicable  0.097796  0.097796\n",
       "71                            applicant_sex_name_Male  0.096305  0.096305\n",
       "14  agency_name_Department of Housing and Urban De... -0.095084  0.095084\n",
       "59               applicant_race_name_1_Not applicable  0.088897  0.088897\n",
       "10                     number_of_owner_occupied_units  0.088746  0.088746\n",
       "2                                    loan_amount_000s -0.085417  0.085417\n",
       "65  co_applicant_race_name_1_Native Hawaiian/Pacif... -0.084090  0.084090\n",
       "74                         co_applicant_sex_name_Male -0.082533  0.082533\n",
       "58  applicant_race_name_1_Native Hawaiian/Pacific ...  0.082402  0.082402\n",
       "54  applicant_race_name_1_American Indian or Alask... -0.082056  0.082056\n",
       "15  agency_name_Federal Deposit Insurance Corporation  0.076012  0.076012\n",
       "5                                        hoepa_status -0.073766  0.073766\n",
       "64  co_applicant_race_name_1_Information not Provided  0.071351  0.071351\n",
       "26                    preapproval_name_Not applicable  0.069221  0.069221\n",
       "72                       co_applicant_sex_name_Female  0.064287  0.064287\n",
       "45        applicant_ethnicity_name_Hispanic or Latino  0.060745  0.060745\n",
       "4                               applicant_income_000s  0.055869  0.055869\n",
       "38        msamd_name_Orlando, Kissimmee, Sanford - FL -0.055192  0.055192"
      ]
     },
     "execution_count": 55,
     "metadata": {},
     "output_type": "execute_result"
    }
   ],
   "source": [
    "df_fin.sort_values(by = 'abs_Val', ascending  = False)[:50]"
   ]
  },
  {
   "cell_type": "markdown",
   "id": "465db6d8-a57c-4fae-861f-6e5e30a8e896",
   "metadata": {},
   "source": [
    "## PCA"
   ]
  },
  {
   "cell_type": "code",
   "execution_count": null,
   "id": "cf3a0e75-41fb-43e0-9539-e720d62d3d42",
   "metadata": {},
   "outputs": [],
   "source": [
    "#### reseting the numerical and categorical features and pipelines because the PCA pipline below did not originally like the \n",
    "#### coefficient exploration above \n",
    "numerical_features = X_train.select_dtypes(include='number').columns.tolist()\n",
    "print(f'There are {len(numerical_features)} numerical features:', '\\n')\n",
    "print(numerical_features)\n",
    "\n",
    "categorical_features = X_train.select_dtypes(exclude='number').columns.tolist()\n",
    "print(f'There are {len(categorical_features)} categorical features:', '\\n')\n",
    "print(categorical_features)\n",
    "\n",
    "numeric_pipeline = Pipeline(steps=[\n",
    "    ('impute', SimpleImputer(strategy='mean')),\n",
    "    ('scale', StandardScaler())\n",
    "])\n",
    "\n",
    "categorical_pipeline = Pipeline(steps=[\n",
    "    ('impute', SimpleImputer(strategy='most_frequent')),\n",
    "    ('one-hot', OneHotEncoder(handle_unknown='ignore', sparse=False))\n",
    "])\n",
    "\n",
    "full_processor = ColumnTransformer(transformers=[\n",
    "    ('number', numeric_pipeline, numerical_features),\n",
    "    ('category', categorical_pipeline, categorical_features)\n",
    "])"
   ]
  },
  {
   "cell_type": "code",
   "execution_count": 89,
   "id": "473d3959-88b1-4352-940e-8ce21647f385",
   "metadata": {},
   "outputs": [],
   "source": [
    "pca = PCA()\n",
    "log_reg = LogisticRegression()\n",
    "\n",
    "log_reg_pipe = Pipeline(steps=[\n",
    "    ('preprocess', full_processor),\n",
    "    ('pca',pca),\n",
    "    ('model', log_reg)\n",
    "])"
   ]
  },
  {
   "cell_type": "code",
   "execution_count": 90,
   "id": "287d8561-81e0-4805-a6bb-8fc379cfd467",
   "metadata": {},
   "outputs": [
    {
     "name": "stdout",
     "output_type": "stream",
     "text": [
      "Best score (CV score=0.776):\n",
      "Best params: {'model__C': 0.046415888336127774, 'pca__n_components': 20}\n"
     ]
    }
   ],
   "source": [
    "param_grid = {\n",
    "    \"pca__n_components\": [5, 10, 15, 20],\n",
    "    \"model__C\": np.logspace(-4, 4, 4)\n",
    "}\n",
    "search = GridSearchCV(log_reg_pipe, param_grid, n_jobs=2)\n",
    "search.fit(X_train, y_train)\n",
    "print(\"Best score (CV score=%0.3f):\" % search.best_score_)\n",
    "print(\"Best params:\", search.best_params_)\n"
   ]
  },
  {
   "cell_type": "markdown",
   "id": "afd3ea3f-8939-4fc9-a59a-2dd0f8e012d3",
   "metadata": {},
   "source": [
    "### PCA quick analysis"
   ]
  },
  {
   "cell_type": "code",
   "execution_count": 91,
   "id": "2e78fa05-fccb-4fe5-8afa-42028d82cdcd",
   "metadata": {},
   "outputs": [
    {
     "data": {
      "text/plain": [
       "0.8522885291833828"
      ]
     },
     "execution_count": 91,
     "metadata": {},
     "output_type": "execute_result"
    }
   ],
   "source": [
    "# ~80 % explained by the first 10 components!\n",
    "pca.fit(full_processor.fit_transform(X_train_2))\n",
    "sum(pca.explained_variance_ratio_[:15])"
   ]
  },
  {
   "cell_type": "code",
   "execution_count": 92,
   "id": "d51a4336-9e90-42a8-87e2-f5ed7ef11e84",
   "metadata": {},
   "outputs": [
    {
     "name": "stdout",
     "output_type": "stream",
     "text": [
      "agency_name -0.014187994775458089\n",
      "loan_type_name -5.551115123125783e-17\n",
      "loan_purpose 0.07039225701378193\n",
      "owner_occupancy_name -0.14570020304589204\n",
      "loan_amount_000s 0.027244202537898277\n",
      "preapproval_name -0.0005677568505217667\n",
      "msamd_name -0.5397214088680111\n",
      "state_name 0.09397167331730324\n",
      "census_tract_number 0.042429569671753306\n",
      "applicant_ethnicity_name -0.16738264794326269\n",
      "co_applicant_ethnicity_name -0.5611213332658109\n",
      "applicant_race_name_1 -0.551365442984059\n",
      "co_applicant_race_name_1 0.02674417640752844\n",
      "applicant_sex_name 0.012439813397180154\n",
      "co_applicant_sex_name -0.013225489718138068\n",
      "applicant_income_000s -0.0009816439573668298\n",
      "hoepa_status -0.0009268282399198638\n",
      "population 0.001115719155925229\n",
      "minority_population 0.001578429362319375\n",
      "hud_median_family_income 0.01191413857798993\n",
      "tract_to_msamd_income -0.002230513321053439\n",
      "number_of_owner_occupied_units -0.0014160927894623914\n",
      "number_of_1_to_4_family_units -0.008267532467474118\n",
      "latino 4.06670851848809e-05\n",
      "approve_bin 0.006237541625530215\n"
     ]
    }
   ],
   "source": [
    "pca1_evec = pca.components_[0]\n",
    "for weight, event in zip(pca1_evec, df.iloc[:,1:].columns):\n",
    "    print(event, weight)"
   ]
  },
  {
   "cell_type": "code",
   "execution_count": 93,
   "id": "7705bc4b-358c-4823-8c5f-72145726cd7e",
   "metadata": {},
   "outputs": [
    {
     "data": {
      "text/html": [
       "<div>\n",
       "<style scoped>\n",
       "    .dataframe tbody tr th:only-of-type {\n",
       "        vertical-align: middle;\n",
       "    }\n",
       "\n",
       "    .dataframe tbody tr th {\n",
       "        vertical-align: top;\n",
       "    }\n",
       "\n",
       "    .dataframe thead th {\n",
       "        text-align: right;\n",
       "    }\n",
       "</style>\n",
       "<table border=\"1\" class=\"dataframe\">\n",
       "  <thead>\n",
       "    <tr style=\"text-align: right;\">\n",
       "      <th></th>\n",
       "      <th>pr_comp_0</th>\n",
       "      <th>pr_comp_1</th>\n",
       "      <th>pr_comp_2</th>\n",
       "      <th>pr_comp_3</th>\n",
       "      <th>pr_comp_4</th>\n",
       "      <th>pr_comp_5</th>\n",
       "      <th>pr_comp_6</th>\n",
       "      <th>pr_comp_7</th>\n",
       "      <th>pr_comp_8</th>\n",
       "      <th>pr_comp_9</th>\n",
       "      <th>...</th>\n",
       "      <th>pr_comp_67</th>\n",
       "      <th>pr_comp_68</th>\n",
       "      <th>pr_comp_69</th>\n",
       "      <th>pr_comp_70</th>\n",
       "      <th>pr_comp_71</th>\n",
       "      <th>pr_comp_72</th>\n",
       "      <th>pr_comp_73</th>\n",
       "      <th>pr_comp_74</th>\n",
       "      <th>pr_comp_75</th>\n",
       "      <th>pr_comp_76</th>\n",
       "    </tr>\n",
       "  </thead>\n",
       "  <tbody>\n",
       "    <tr>\n",
       "      <th>0</th>\n",
       "      <td>1.095432</td>\n",
       "      <td>0.968579</td>\n",
       "      <td>-1.103290</td>\n",
       "      <td>0.996589</td>\n",
       "      <td>-1.076046</td>\n",
       "      <td>-0.989158</td>\n",
       "      <td>0.055898</td>\n",
       "      <td>0.048601</td>\n",
       "      <td>0.727745</td>\n",
       "      <td>0.801911</td>\n",
       "      <td>...</td>\n",
       "      <td>-9.921459e-07</td>\n",
       "      <td>-0.000011</td>\n",
       "      <td>7.706636e-07</td>\n",
       "      <td>-8.623413e-07</td>\n",
       "      <td>0.000002</td>\n",
       "      <td>-0.000001</td>\n",
       "      <td>-0.000001</td>\n",
       "      <td>-4.631126e-07</td>\n",
       "      <td>0.000001</td>\n",
       "      <td>7.614373e-07</td>\n",
       "    </tr>\n",
       "    <tr>\n",
       "      <th>1</th>\n",
       "      <td>1.031035</td>\n",
       "      <td>1.923122</td>\n",
       "      <td>-0.839787</td>\n",
       "      <td>0.116356</td>\n",
       "      <td>1.598051</td>\n",
       "      <td>-0.435288</td>\n",
       "      <td>0.017411</td>\n",
       "      <td>0.254199</td>\n",
       "      <td>1.619205</td>\n",
       "      <td>0.007144</td>\n",
       "      <td>...</td>\n",
       "      <td>-9.921459e-07</td>\n",
       "      <td>-0.000011</td>\n",
       "      <td>7.706636e-07</td>\n",
       "      <td>-8.623413e-07</td>\n",
       "      <td>0.000002</td>\n",
       "      <td>-0.000001</td>\n",
       "      <td>-0.000001</td>\n",
       "      <td>-4.631126e-07</td>\n",
       "      <td>0.000001</td>\n",
       "      <td>7.614373e-07</td>\n",
       "    </tr>\n",
       "    <tr>\n",
       "      <th>2</th>\n",
       "      <td>0.185112</td>\n",
       "      <td>-0.398179</td>\n",
       "      <td>0.974169</td>\n",
       "      <td>-1.957079</td>\n",
       "      <td>-0.094478</td>\n",
       "      <td>-1.400309</td>\n",
       "      <td>0.079250</td>\n",
       "      <td>0.537291</td>\n",
       "      <td>1.208401</td>\n",
       "      <td>0.374513</td>\n",
       "      <td>...</td>\n",
       "      <td>-9.921459e-07</td>\n",
       "      <td>-0.000011</td>\n",
       "      <td>7.706636e-07</td>\n",
       "      <td>-8.623413e-07</td>\n",
       "      <td>0.000002</td>\n",
       "      <td>-0.000001</td>\n",
       "      <td>-0.000001</td>\n",
       "      <td>-4.631126e-07</td>\n",
       "      <td>0.000001</td>\n",
       "      <td>7.614373e-07</td>\n",
       "    </tr>\n",
       "    <tr>\n",
       "      <th>3</th>\n",
       "      <td>0.577284</td>\n",
       "      <td>0.370584</td>\n",
       "      <td>-1.077228</td>\n",
       "      <td>-0.757118</td>\n",
       "      <td>0.426208</td>\n",
       "      <td>-0.447451</td>\n",
       "      <td>0.004721</td>\n",
       "      <td>0.360895</td>\n",
       "      <td>1.602810</td>\n",
       "      <td>-0.056380</td>\n",
       "      <td>...</td>\n",
       "      <td>-9.921459e-07</td>\n",
       "      <td>-0.000011</td>\n",
       "      <td>7.706636e-07</td>\n",
       "      <td>-8.623413e-07</td>\n",
       "      <td>0.000002</td>\n",
       "      <td>-0.000001</td>\n",
       "      <td>-0.000001</td>\n",
       "      <td>-4.631126e-07</td>\n",
       "      <td>0.000001</td>\n",
       "      <td>7.614373e-07</td>\n",
       "    </tr>\n",
       "    <tr>\n",
       "      <th>4</th>\n",
       "      <td>1.789032</td>\n",
       "      <td>-3.166140</td>\n",
       "      <td>1.747354</td>\n",
       "      <td>0.059937</td>\n",
       "      <td>1.158152</td>\n",
       "      <td>-1.836405</td>\n",
       "      <td>0.096266</td>\n",
       "      <td>0.186461</td>\n",
       "      <td>0.564993</td>\n",
       "      <td>-0.102784</td>\n",
       "      <td>...</td>\n",
       "      <td>-4.559521e-06</td>\n",
       "      <td>-0.000051</td>\n",
       "      <td>3.541674e-06</td>\n",
       "      <td>-3.962989e-06</td>\n",
       "      <td>0.000010</td>\n",
       "      <td>-0.000007</td>\n",
       "      <td>-0.000005</td>\n",
       "      <td>-2.128287e-06</td>\n",
       "      <td>0.000005</td>\n",
       "      <td>3.499273e-06</td>\n",
       "    </tr>\n",
       "  </tbody>\n",
       "</table>\n",
       "<p>5 rows × 77 columns</p>\n",
       "</div>"
      ],
      "text/plain": [
       "   pr_comp_0  pr_comp_1  pr_comp_2  pr_comp_3  pr_comp_4  pr_comp_5  \\\n",
       "0   1.095432   0.968579  -1.103290   0.996589  -1.076046  -0.989158   \n",
       "1   1.031035   1.923122  -0.839787   0.116356   1.598051  -0.435288   \n",
       "2   0.185112  -0.398179   0.974169  -1.957079  -0.094478  -1.400309   \n",
       "3   0.577284   0.370584  -1.077228  -0.757118   0.426208  -0.447451   \n",
       "4   1.789032  -3.166140   1.747354   0.059937   1.158152  -1.836405   \n",
       "\n",
       "   pr_comp_6  pr_comp_7  pr_comp_8  pr_comp_9  ...    pr_comp_67  pr_comp_68  \\\n",
       "0   0.055898   0.048601   0.727745   0.801911  ... -9.921459e-07   -0.000011   \n",
       "1   0.017411   0.254199   1.619205   0.007144  ... -9.921459e-07   -0.000011   \n",
       "2   0.079250   0.537291   1.208401   0.374513  ... -9.921459e-07   -0.000011   \n",
       "3   0.004721   0.360895   1.602810  -0.056380  ... -9.921459e-07   -0.000011   \n",
       "4   0.096266   0.186461   0.564993  -0.102784  ... -4.559521e-06   -0.000051   \n",
       "\n",
       "     pr_comp_69    pr_comp_70  pr_comp_71  pr_comp_72  pr_comp_73  \\\n",
       "0  7.706636e-07 -8.623413e-07    0.000002   -0.000001   -0.000001   \n",
       "1  7.706636e-07 -8.623413e-07    0.000002   -0.000001   -0.000001   \n",
       "2  7.706636e-07 -8.623413e-07    0.000002   -0.000001   -0.000001   \n",
       "3  7.706636e-07 -8.623413e-07    0.000002   -0.000001   -0.000001   \n",
       "4  3.541674e-06 -3.962989e-06    0.000010   -0.000007   -0.000005   \n",
       "\n",
       "     pr_comp_74  pr_comp_75    pr_comp_76  \n",
       "0 -4.631126e-07    0.000001  7.614373e-07  \n",
       "1 -4.631126e-07    0.000001  7.614373e-07  \n",
       "2 -4.631126e-07    0.000001  7.614373e-07  \n",
       "3 -4.631126e-07    0.000001  7.614373e-07  \n",
       "4 -2.128287e-06    0.000005  3.499273e-06  \n",
       "\n",
       "[5 rows x 77 columns]"
      ]
     },
     "execution_count": 93,
     "metadata": {},
     "output_type": "execute_result"
    }
   ],
   "source": [
    "X = df.drop(columns = 'approve_bin', axis=1)\n",
    "pca_df = pd.DataFrame(pca.transform(full_processor.fit_transform(X)),\n",
    "                      columns=['pr_comp_' + str(i) for i in range(full_processor.fit_transform(X).shape[1])])\n",
    "pca_df.head()"
   ]
  },
  {
   "cell_type": "code",
   "execution_count": 94,
   "id": "72c3f0af-380c-471f-b29c-f763d79a7c91",
   "metadata": {},
   "outputs": [],
   "source": [
    "pca_df['approve_bin'] = list(df.approve_bin)"
   ]
  },
  {
   "cell_type": "code",
   "execution_count": 95,
   "id": "aa009cbb-fe46-428d-aeba-70d2dba341d4",
   "metadata": {},
   "outputs": [
    {
     "data": {
      "text/plain": [
       "(0.78, '+-', 0.0)"
      ]
     },
     "execution_count": 95,
     "metadata": {},
     "output_type": "execute_result"
    }
   ],
   "source": [
    "lr = LogisticRegression(random_state=42)\n",
    "\n",
    "scores = cross_val_score(lr,\n",
    "                         pca_df.iloc[:, :15],\n",
    "                         pca_df.iloc[:, -1],\n",
    "                         cv=KFold(n_splits=5,\n",
    "                                  shuffle=True,\n",
    "                                  random_state=42)   \n",
    "                        )\n",
    "round(scores.mean(), 2), '+-', round(2 * scores.std(), 2)"
   ]
  },
  {
   "cell_type": "code",
   "execution_count": 96,
   "id": "a5cdec3a-968d-4747-981b-20a8779ddb75",
   "metadata": {},
   "outputs": [
    {
     "data": {
      "text/plain": [
       "(0.74, '+-', 0.0)"
      ]
     },
     "execution_count": 96,
     "metadata": {},
     "output_type": "execute_result"
    }
   ],
   "source": [
    "knn = KNeighborsClassifier()\n",
    "scores = cross_val_score(knn,\n",
    "                         pca_df.iloc[:, :15],\n",
    "                         pca_df.iloc[:, -1],\n",
    "                         cv=KFold(n_splits=5,\n",
    "                                  shuffle=True,\n",
    "                                  random_state=73))\n",
    "round(scores.mean(), 2), '+-', round(2 * scores.std(), 2)"
   ]
  },
  {
   "cell_type": "markdown",
   "id": "ec0fb123-8237-494e-86f9-0b6fe2455076",
   "metadata": {},
   "source": [
    "## Random Forrest "
   ]
  },
  {
   "cell_type": "code",
   "execution_count": 97,
   "id": "74670ad6-aa0a-4bc2-a8b8-8def208a523e",
   "metadata": {},
   "outputs": [],
   "source": [
    "pca = PCA()\n",
    "rf = RandomForestClassifier()\n",
    "\n",
    "rf_pipe = Pipeline(steps=[\n",
    "    ('preprocess', full_processor),\n",
    "    ('pca',pca),\n",
    "    ('model', rf)\n",
    "])"
   ]
  },
  {
   "cell_type": "code",
   "execution_count": 98,
   "id": "66e9fd4c-9552-44a0-9d84-8cdc3b485e88",
   "metadata": {},
   "outputs": [
    {
     "name": "stdout",
     "output_type": "stream",
     "text": [
      "tuned hpyerparameters :(best parameters)  {'model__n_estimators': 100, 'pca__n_components': 15}\n",
      "accuracy : 0.7731562860086575\n"
     ]
    }
   ],
   "source": [
    "param_grid = [{\"pca__n_components\": [15],\n",
    "               \"model__n_estimators\": [100]\n",
    "               }] \n",
    "\n",
    "search = GridSearchCV(rf_pipe, param_grid, cv=5, scoring='accuracy', n_jobs=-1)\n",
    "\n",
    "search.fit(X_train,y_train)\n",
    "\n",
    "print(\"tuned hpyerparameters :(best parameters) \",search.best_params_)\n",
    "print(\"accuracy :\",search.best_score_)"
   ]
  },
  {
   "cell_type": "code",
   "execution_count": 99,
   "id": "6185d3fa-2387-4634-898b-fcb5ddf3b20e",
   "metadata": {},
   "outputs": [],
   "source": [
    "#https://towardsdatascience.com/grid-search-for-model-tuning-3319b259367e\n",
    "#https://towardsdatascience.com/polynomial-regression-with-a-machine-learning-pipeline-7e27d2dedc87\n",
    "#https://scikit-learn.org/stable/auto_examples/compose/plot_digits_pipe.html\n",
    "#https://medium.com/@andymdc31/using-pca-in-a-machine-learning-pipeline-b6fe3492b1b9"
   ]
  },
  {
   "cell_type": "code",
   "execution_count": null,
   "id": "33392915-ca30-430d-831b-d958c92ff224",
   "metadata": {},
   "outputs": [],
   "source": []
  }
 ],
 "metadata": {
  "kernelspec": {
   "display_name": "Python 3",
   "language": "python",
   "name": "python3"
  },
  "language_info": {
   "codemirror_mode": {
    "name": "ipython",
    "version": 3
   },
   "file_extension": ".py",
   "mimetype": "text/x-python",
   "name": "python",
   "nbconvert_exporter": "python",
   "pygments_lexer": "ipython3",
   "version": "3.8.8"
  }
 },
 "nbformat": 4,
 "nbformat_minor": 5
}
